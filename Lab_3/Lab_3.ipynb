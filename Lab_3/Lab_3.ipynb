{
 "cells": [
  {
   "cell_type": "markdown",
   "metadata": {},
   "source": [
    "## Lab_3 \n",
    "1. Изменить модель регрессии, добавив в неё дополнительный регрессор, ранее не вошедший в состав модели, порождающей данные. Не генерируя новых данных, найти точечные оценки всех параметров расширенной модели.\n",
    "2. Построить доверительные интервалы для каждого параметра модели регрессии.\n",
    "3. Проверить гипотезу о значимости каждого параметра модели.\n",
    "4. Проверить гипотезу о значимости самой регрессии.\n",
    "5. Рассчитать прогнозные значения для математического ожидания функции отклика для всего интервала действия одного из факторов, зафиксировав значения других факторов на границе или в центре области их определения.\n",
    "6. Построить график прогнозных значений и доверительной полосы для математического ожидания функции отклика и для самого отклика.\n",
    "7. Заново смоделировать исходные данные (см. лаб. работу № 1), увеличив мощность случайной помехи до 50…70 % от мощности полезного сигнала и провести оценку параметров. Повторить пункты 3, 4 с новыми данными. \n",
    "\n",
    "### 1. Изменить модель регрессии, добавив в неё дополнительный регрессор, ранее не вошедший в состав модели, порождающей данные. Не генерируя новых данных, найти точечные оценки всех параметров расширенной модели\n"
   ]
  },
  {
   "cell_type": "code",
   "execution_count": 1,
   "metadata": {},
   "outputs": [],
   "source": [
    "import matplotlib.pyplot as plt\n",
    "import scipy.stats as stats\n",
    "import numpy as np\n",
    "import math\n",
    "import random\n",
    "\n",
    "f_old = lambda x1, x2 : np.array([1, 1/x1, x1, x2, x2**2]) \n",
    "teta_old = np.array([0.001, 1, 0.001, 0.0001, 1])\n",
    "u_old = lambda x1, x2: 0.001 + 1/x1 + x1* 0.001 + x2*0.0001 + x2**2\n",
    "\n",
    "# Добавим регрессор x2/x1\n",
    "f = lambda x1, x2 : np.array([1, 1/x1, x1, x2, x2**2, x2*x1]) \n",
    "teta = np.array([0.001, 1, 0.001, 0.0001, 1, 0.0015])\n",
    "u = lambda x1, x2: 0.001 + 1/x1 + x1* 0.001 + x2*0.0001 + 1*x2**2 + x2*x1*0.0015\n",
    "\n",
    "# Генерирует точки (120)\n",
    "def generateData():\n",
    "    import random as rnd\n",
    "\n",
    "    x1_points = []\n",
    "    x2_points = []\n",
    "\n",
    "    for s in range(0, 120):\n",
    "        x2_points.append((rnd.random() - 0.5) * 2)\n",
    "\n",
    "    for s in range(0, 60):\n",
    "        x1_points.append(-rnd.random() * 5 - 1)\n",
    "        x1_points.append(rnd.random() * 5 + 1)\n",
    "    return x1_points, x2_points\n",
    "\n",
    "# Строит модель из 2 лабы\n",
    "def lab_2(f, teta, u, x1_array, x2_array, p):   \n",
    "    vector_u = list()\n",
    "\n",
    "    # Рассчиатли U\n",
    "    for i in range(len(x1_array)):\n",
    "        vector_u.append(u(x1_array[i], x2_array[i]))\n",
    "\n",
    "    vect_arr_u = np.array(vector_u)\n",
    "    average_u = vect_arr_u.mean()\n",
    "\n",
    "    w2 = np.dot(vect_arr_u - average_u, vect_arr_u - average_u) / (len(vect_arr_u - 1))  \n",
    "    sig = p * (w2)**0.5\n",
    "\n",
    "    # Сгенерировали U с помехами (y)\n",
    "    y = []\n",
    "    for i in range(len(x1_array)):\n",
    "        y.append(vector_u[i] + np.random.normal(0, sig))\n",
    "    \n",
    "    # Построение матрицы X\n",
    "    X = []\n",
    "    for i in range(len(teta)):\n",
    "        X.append([])\n",
    "        for j in range(len(x1_array)):\n",
    "            X[i].append(f(x1_array[j], x2_array[j])[i])\n",
    "\n",
    "    X = np.matrix(X)\n",
    "\n",
    "    Q_ = X.dot(X.T)\n",
    "    Q_ = np.linalg.inv(Q_)\n",
    "    Q_ = Q_.dot(X)\n",
    "    Q_ = Q_ * np.matrix(y).T\n",
    "    \n",
    "    e = []\n",
    "    e = y - (X.T).dot(np.matrix(teta).T).T\n",
    "    sigma2 = float(e.dot(e.T)/(len(vect_arr_u)-len(teta))) # Несмещенная оценка оценка дисперсии\n",
    "\n",
    "    F = sigma2 / sig**2\n",
    "        \n",
    "    return Q_, F, X, sigma2, y, vector_u"
   ]
  },
  {
   "cell_type": "code",
   "execution_count": 2,
   "metadata": {},
   "outputs": [
    {
     "name": "stdout",
     "output_type": "stream",
     "text": [
      "[[ 1.94842813e-02]\n",
      " [ 9.98473419e-01]\n",
      " [-1.36724910e-03]\n",
      " [-9.88815680e-04]\n",
      " [ 9.92858632e-01]] 0.004675942173314507 1.15939880412832\n",
      "[[ 0.00657887]\n",
      " [ 1.01366484]\n",
      " [-0.0012453 ]\n",
      " [ 0.00201508]\n",
      " [ 0.99095268]\n",
      " [ 0.0030433 ]] 0.003923665052752322 0.9736596396909594\n"
     ]
    }
   ],
   "source": [
    "x1_arr, x2_arr = generateData()\n",
    "\n",
    "# Оценки старой модели\n",
    "Q_old, F_old, X_old, sig2_old, y_old, u_old = lab_2(f_old, teta_old, u_old, x1_arr, x2_arr, 0.13)\n",
    "print(Q_old, sig2_old, F_old)\n",
    "\n",
    "# Оценки новой модели\n",
    "Q, F, X, sig2, y, u_arr = lab_2(f, teta, u, x1_arr, x2_arr, 0.13)\n",
    "print(Q, sig2, F)"
   ]
  },
  {
   "cell_type": "markdown",
   "metadata": {},
   "source": [
    "### 2. Построить доверительные интервалы для каждого параметра модели регрессии"
   ]
  },
  {
   "cell_type": "code",
   "execution_count": 3,
   "metadata": {},
   "outputs": [
    {
     "name": "stdout",
     "output_type": "stream",
     "text": [
      "[[-0.01083392  0.97691645 -0.0052543  -0.01704257  0.95372088 -0.00206418]]\n",
      "\n",
      "[[ 0.00657887  1.01366484 -0.0012453   0.00201508  0.99095268  0.0030433 ]]\n",
      "\n",
      "[[0.02399166 1.05041323 0.00276371 0.02107274 1.02818449 0.00815079]]\n"
     ]
    }
   ],
   "source": [
    "t_alpha = stats.t.ppf(0.975, 114) \n",
    "\n",
    "def point2(X, sig2, Q, t_alpha):\n",
    "    djj = np.diagonal(np.linalg.inv(X.dot(X.T)))\n",
    "    sigma_qj = np.diagonal(sig2 * np.linalg.inv(X.dot(X.T)))**0.5\n",
    "\n",
    "    Q_min = Q - t_alpha * np.matrix(sigma_qj).T\n",
    "    Q_max = Q + t_alpha * np.matrix(sigma_qj).T\n",
    "    return djj, Q_min, Q_max, sigma_qj\n",
    "\n",
    "djj, Q_min, Q_max, sigma_qj = point2(X, sig2, Q, t_alpha)\n",
    "\n",
    "print(Q_min.T)\n",
    "print()\n",
    "print(Q.T)\n",
    "print()\n",
    "print(Q_max.T)"
   ]
  },
  {
   "cell_type": "markdown",
   "metadata": {},
   "source": [
    "### 3. Проверить гипотезу о незначимости каждого параметра модели"
   ]
  },
  {
   "cell_type": "code",
   "execution_count": 4,
   "metadata": {},
   "outputs": [
    {
     "name": "stdout",
     "output_type": "stream",
     "text": [
      "F = 3.924330484639666\n",
      "\n",
      "0.5601853987974198\n",
      "Принимается\n",
      "2985.9169080472966\n",
      "Отвергается\n",
      "0.3786505142091985\n",
      "Принимается\n",
      "0.043874583020939883\n",
      "Принимается\n",
      "2779.989924337921\n",
      "Отвергается\n",
      "1.393289874540818\n",
      "Принимается\n",
      "[1.0e-03 1.0e+00 1.0e-03 1.0e-04 1.0e+00 1.5e-03]\n",
      "[[ 0.00657887  1.01366484 -0.0012453   0.00201508  0.99095268  0.0030433 ]]\n"
     ]
    }
   ],
   "source": [
    "def check1(teta, sig2, djj):\n",
    "    f=[]\n",
    "    F_quant = stats.f.ppf(0.95, 1, 114)\n",
    "    print('F = '+ str(F_quant)+ '\\n')\n",
    "    \n",
    "    for i in range(len(teta)):\n",
    "        s = float(Q[i][0]**2/sig2/djj[i])\n",
    "        f.append(s)\n",
    "        print(f[i])\n",
    "        \n",
    "        if float(f[i]) < F_quant:\n",
    "            print('Принимается')\n",
    "        else:\n",
    "            print('Отвергается')\n",
    "        \n",
    "check1(teta, sig2, djj)\n",
    "print(teta)\n",
    "print(Q.T[0])"
   ]
  },
  {
   "cell_type": "markdown",
   "metadata": {},
   "source": [
    "### 4. Проверить гипотезу о значимости самой регрессии"
   ]
  },
  {
   "cell_type": "code",
   "execution_count": 5,
   "metadata": {},
   "outputs": [
    {
     "name": "stdout",
     "output_type": "stream",
     "text": [
      "1476.2749698189527\n",
      "F = 2.179099850576307\n",
      "\n",
      "Гипотеза отвергается\n"
     ]
    }
   ],
   "source": [
    "def check2(y, X, Q, u_arr):\n",
    "    RSS=(np.array(y)-X.T.dot(Q).T)\n",
    "    RSS=float(RSS.dot(RSS.T))\n",
    "    RSSh=0\n",
    "    for i in range(len(y)):\n",
    "        RSSh+=(y[i]-np.mean(u_arr))**2\n",
    "    m=6\n",
    "    n=120\n",
    "    q=m - 1\n",
    "    F=((RSSh-RSS)/q)/(RSS/(n-m))\n",
    "    string = \"\"\n",
    "    print(F)\n",
    "    \n",
    "    F_quant = stats.f.ppf(0.95, 5, 114)\n",
    "    print('F = '+ str(F_quant)+ '\\n')\n",
    "    \n",
    "    if F < F_quant: \n",
    "        string = \"Гипотеза принимается\"\n",
    "    else:\n",
    "        string = \"Гипотеза отвергается\"\n",
    "    return string\n",
    "\n",
    "print(check2(y, X, Q, u_arr))    \n"
   ]
  },
  {
   "cell_type": "markdown",
   "metadata": {},
   "source": [
    "### 5. Рассчитать прогнозные значения для математического ожидания функции отклика для всего интервала действия одного из факторов, зафиксировав значения других факторов на границе или в центре области их определения"
   ]
  },
  {
   "cell_type": "code",
   "execution_count": 6,
   "metadata": {},
   "outputs": [],
   "source": [
    "def sigma_nu (x1, x2) : \n",
    "    return sig2*np.array(f(x1,x2)*np.linalg.inv(X.dot(X.T))*np.matrix(f(x1,x2)).T)**0.5\n",
    "\n",
    "nu = lambda x1, x2, Q : sum(np.array([1*Q[0], x1*Q[1], x1**2*Q[2], x2**2*Q[3], x2*Q[4], x1 * x2*Q[5]]))\n",
    "nu_min = lambda x1, x2, Q : np.float64(nu(x1,x2,Q) - t_alpha*(sigma_nu(x1,x2)[0][0]))\n",
    "nu_max = lambda x1, x2, Q : np.float64(nu(x1,x2,Q) + t_alpha*(sigma_nu(x1,x2)[0][0]))\n",
    "\n"
   ]
  },
  {
   "cell_type": "markdown",
   "metadata": {},
   "source": [
    "### 6. Построить график прогнозных значений и доверительной полосы для математического ожидания функции отклика и для самого отклика"
   ]
  },
  {
   "cell_type": "code",
   "execution_count": 7,
   "metadata": {},
   "outputs": [
    {
     "data": {
      "image/png": "[encoded data removed]",
      "text/plain": [
       "<Figure size 432x288 with 1 Axes>"
      ]
     },
     "metadata": {
      "needs_background": "light"
     },
     "output_type": "display_data"
    },
    {
     "data": {
      "image/png": "[encoded data removed]",
      "text/plain": [
       "<Figure size 432x288 with 1 Axes>"
      ]
     },
     "metadata": {
      "needs_background": "light"
     },
     "output_type": "display_data"
    },
    {
     "data": {
      "image/png": "[encoded data removed]",
      "text/plain": [
       "<Figure size 432x288 with 1 Axes>"
      ]
     },
     "metadata": {
      "needs_background": "light"
     },
     "output_type": "display_data"
    },
    {
     "data": {
      "image/png": "[encoded data removed]",
      "text/plain": [
       "<Figure size 432x288 with 1 Axes>"
      ]
     },
     "metadata": {
      "needs_background": "light"
     },
     "output_type": "display_data"
    }
   ],
   "source": [
    "fig = plt.subplots()\n",
    "\n",
    "x = []\n",
    "x1 = np.linspace(-6, -1,100)\n",
    "x2 = np.linspace(1, 6, 100)\n",
    "\n",
    "for i in range(100):\n",
    "    x.append(x1[i])\n",
    "    \n",
    "for i in range(100):\n",
    "    x.append(x2[i])    \n",
    "\n",
    "plt.scatter(np.float64(x), nu(np.float64(x), 0, np.array(teta)))\n",
    "plt.scatter(np.float64(x), nu_min(np.float64(x), 0, np.array(teta)))\n",
    "plt.scatter(np.float64(x), nu_max(np.float64(x), 0, np.array(teta)))\n",
    "plt.title('u(x1, 0)')\n",
    "plt.show()\n",
    "\n",
    "x = np.linspace(1, 1.005, 100)\n",
    "fig = plt.subplots()\n",
    "plt.plot(np.float64(x), nu(np.float64(x), 0, np.array(teta)))\n",
    "plt.plot(np.float64(x), nu_min(np.float64(x), 0, np.array(teta)))\n",
    "plt.plot(np.float64(x), nu_max(np.float64(x), 0, np.array(teta)))\n",
    "plt.title('u(x1, 0)')\n",
    "plt.show()\n",
    "\n",
    "\n",
    "fig = plt.subplots()\n",
    "x = np.linspace(-10, 10,100)\n",
    "plt.plot(x, nu(0.002, x, np.array(teta)))\n",
    "plt.plot(x, nu_min(0.002, x, np.array(teta)))\n",
    "plt.plot(x, nu_max(0.002, x, np.array(teta)))\n",
    "plt.title('u(0.002, x2)')\n",
    "plt.show()\n",
    "\n",
    "fig = plt.subplots()\n",
    "x = np.linspace(0, 0.05,100)\n",
    "plt.plot(x, nu(0.2, x, np.array(teta)))\n",
    "plt.plot(x, nu_min(0.2, x, np.array(teta)))\n",
    "plt.plot(x, nu_max(0.2, x, np.array(teta)))\n",
    "plt.title('u(0.2, x2)')\n",
    "plt.show()\n"
   ]
  },
  {
   "cell_type": "markdown",
   "metadata": {},
   "source": [
    "### 7. Заново смоделировать исходные данные (см. лаб. работу № 1), увеличив мощность случайной помехи до 50…70 % от мощности полезного сигнала и провести оценку параметров. Повторить пункты 3, 4 с новыми данными\n"
   ]
  },
  {
   "cell_type": "code",
   "execution_count": 8,
   "metadata": {},
   "outputs": [
    {
     "name": "stdout",
     "output_type": "stream",
     "text": [
      "F = 3.924330484639666\n",
      "\n",
      "0.022009652264486732\n",
      "Принимается\n",
      "117.31650446058558\n",
      "Отвергается\n",
      "0.014877157036589182\n",
      "Принимается\n",
      "0.0017238298563534223\n",
      "Принимается\n",
      "109.22564505395361\n",
      "Отвергается\n",
      "0.054742279445529514\n",
      "Принимается\n",
      "[1.0e-03 1.0e+00 1.0e-03 1.0e-04 1.0e+00 1.5e-03]\n",
      "[[ 0.00657887  1.01366484 -0.0012453   0.00201508  0.99095268  0.0030433 ]]\n",
      "59.637999773465324\n",
      "F = 2.179099850576307\n",
      "\n",
      "Гипотеза отвергается\n"
     ]
    }
   ],
   "source": [
    "x1_arr1, x2_arr1 = generateData()\n",
    "\n",
    "Q_new, F_new, X_new, sig2_new, y_new, u_new = lab_2(f, teta, u, x1_arr1, x2_arr1, 0.67)\n",
    "djj, Q_min, Q_max, sigma_qj = point2(X, sig2, Q, t_alpha)\n",
    "\n",
    "# Пункт 3\n",
    "check1(teta, sig2_new, djj)\n",
    "print(teta)\n",
    "print(Q.T[0])\n",
    "\n",
    "# Пункт 4\n",
    "print(check2(y_new, X_new, Q_new, u_new))   \n"
   ]
  },
  {
   "cell_type": "code",
   "execution_count": null,
   "metadata": {},
   "outputs": [],
   "source": []
  }
 ],
 "metadata": {
  "kernelspec": {
   "display_name": "Python 3",
   "language": "python",
   "name": "python3"
  },
  "language_info": {
   "codemirror_mode": {
    "name": "ipython",
    "version": 3
   },
   "file_extension": ".py",
   "mimetype": "text/x-python",
   "name": "python",
   "nbconvert_exporter": "python",
   "pygments_lexer": "ipython3",
   "version": "3.8.3"
  }
 },
 "nbformat": 4,
 "nbformat_minor": 4
}
