{
 "cells": [
  {
   "cell_type": "markdown",
   "metadata": {},
   "source": [
    "## Lab_3 \n",
    "1. Изменить модель регрессии, добавив в неё дополнительный регрессор, ранее не вошедший в состав модели, порождающей данные. Не генерируя новых данных, найти точечные оценки всех параметров расширенной модели.\n",
    "2. Построить доверительные интервалы для каждого параметра модели регрессии.\n",
    "3. Проверить гипотезу о значимости каждого параметра модели.\n",
    "4. Проверить гипотезу о значимости самой регрессии.\n",
    "5. Рассчитать прогнозные значения для математического ожидания функции отклика для всего интервала действия одного из факторов, зафиксировав значения других факторов на границе или в центре области их определения.\n",
    "6. Построить график прогнозных значений и доверительной полосы для математического ожидания функции отклика и для самого отклика.\n",
    "7. Заново смоделировать исходные данные (см. лаб. работу № 1), увеличив мощность случайной помехи до 50…70 % от мощности полезного сигнала и провести оценку параметров. Повторить пункты 3, 4 с новыми данными. \n",
    "\n",
    "### 1. Изменить модель регрессии, добавив в неё дополнительный регрессор, ранее не вошедший в состав модели, порождающей данные. Не генерируя новых данных, найти точечные оценки всех параметров расширенной модели\n"
   ]
  },
  {
   "cell_type": "code",
   "execution_count": 1,
   "metadata": {},
   "outputs": [],
   "source": [
    "import matplotlib.pyplot as plt\n",
    "import numpy as np\n",
    "import math\n",
    "import random\n",
    "\n",
    "f_old = lambda x1, x2 : np.array([1, 1/x1, x1, x2, x2**2]) \n",
    "teta_old = np.array([0.001, 1, 0.001, 0.0001, 1])\n",
    "u_old = lambda x1, x2: 0.001 + 1/x1 + x1* 0.001 + x2*0.0001 + x2**2\n",
    "\n",
    "# Добавим регрессор x2/x1\n",
    "f = lambda x1, x2 : np.array([1, 1/x1, x1, x2, x2**2, x2*x1]) \n",
    "teta = np.array([0.001, 1, 0.001, 0.0001, 1, 0.015])\n",
    "u = lambda x1, x2: 0.001 + 1/x1 + x1* 0.001 + x2*0.0001 + 1*x2**2 + x2*x1*0.015\n",
    "\n",
    "# Генерирует точки (120)\n",
    "def generateData():\n",
    "    import random as rnd\n",
    "\n",
    "    x1_points = []\n",
    "    x2_points = []\n",
    "\n",
    "    for s in range(0, 120):\n",
    "        x2_points.append((rnd.random() - 0.5) * 2)\n",
    "\n",
    "    for s in range(0, 60):\n",
    "        x1_points.append(-rnd.random() * 5 - 1)\n",
    "        x1_points.append(rnd.random() * 5 + 1)\n",
    "    return x1_points, x2_points\n",
    "\n",
    "# Строит модель из 2 лабы\n",
    "def lab_2(f, teta, u, x1_array, x2_array, p):   \n",
    "    vector_u = list()\n",
    "\n",
    "    # Рассчиатли U\n",
    "    for i in range(len(x1_array)):\n",
    "        vector_u.append(u(x1_array[i], x2_array[i]))\n",
    "\n",
    "    vect_arr_u = np.array(vector_u)\n",
    "    average_u = vect_arr_u.mean()\n",
    "\n",
    "    w2 = np.dot(vect_arr_u - average_u, vect_arr_u - average_u) / (len(vect_arr_u - 1))  \n",
    "    sig = p * (w2)**0.5\n",
    "\n",
    "    # Сгенерировали U с помехами (y)\n",
    "    y = []\n",
    "    for i in range(len(x1_array)):\n",
    "        y.append(vector_u[i] + np.random.normal(0, sig))\n",
    "    \n",
    "    # Построение матрицы X\n",
    "    X = []\n",
    "    for i in range(len(teta)):\n",
    "        X.append([])\n",
    "        for j in range(len(x1_array)):\n",
    "            X[i].append(f(x1_array[j], x2_array[j])[i])\n",
    "\n",
    "    X = np.matrix(X)\n",
    "\n",
    "    Q_ = X.dot(X.T)\n",
    "    Q_ = np.linalg.inv(Q_)\n",
    "    Q_ = Q_.dot(X)\n",
    "    Q_ = Q_ * np.matrix(y).T\n",
    "    \n",
    "    e = []\n",
    "    e = y - (X.T).dot(np.matrix(teta).T).T\n",
    "    sigma2 = float(e.dot(e.T)/(len(vect_arr_u)-len(teta))) # Несмещенная оценка оценка дисперсии\n",
    "\n",
    "    F = sigma2 / sig**2\n",
    "        \n",
    "    return Q_, F, X, sigma2, y, vector_u"
   ]
  },
  {
   "cell_type": "code",
   "execution_count": 2,
   "metadata": {},
   "outputs": [
    {
     "name": "stdout",
     "output_type": "stream",
     "text": [
      "[[-2.53330796e-03]\n",
      " [ 1.00012388e+00]\n",
      " [ 4.55386315e-04]\n",
      " [ 7.04758181e-03]\n",
      " [ 1.02733803e+00]] 0.003828480312192179 0.9074384641412091\n",
      "[[0.00951659]\n",
      " [0.98850368]\n",
      " [0.00303716]\n",
      " [0.00859673]\n",
      " [0.98566248]\n",
      " [0.01692272]] 0.004017053746890528 0.9441821438796945\n"
     ]
    }
   ],
   "source": [
    "x1_arr, x2_arr = generateData()\n",
    "\n",
    "# Оценки старой модели\n",
    "Q_old, F_old, X_old, sig2_old, y_old, u_old = lab_2(f_old, teta_old, u_old, x1_arr, x2_arr, 0.13)\n",
    "print(Q_old, sig2_old, F_old)\n",
    "\n",
    "# Оценки новой модели\n",
    "Q, F, X, sig2, y, u_arr = lab_2(f, teta, u, x1_arr, x2_arr, 0.13)\n",
    "print(Q, sig2, F)"
   ]
  },
  {
   "cell_type": "markdown",
   "metadata": {},
   "source": [
    "### 2. Построить доверительные интервалы для каждого параметра модели регрессии"
   ]
  },
  {
   "cell_type": "code",
   "execution_count": 3,
   "metadata": {},
   "outputs": [
    {
     "name": "stdout",
     "output_type": "stream",
     "text": [
      "[[-0.00778026  0.95115168 -0.00131821 -0.01150397  0.94635879  0.01112227]]\n",
      "\n",
      "[[0.02681344 1.02585569 0.00739252 0.02869742 1.02496617 0.02272317]]\n"
     ]
    }
   ],
   "source": [
    "# Для 6 параметров и выборки в количестве 120 квантиль Стьюдента = 1.98\n",
    "t_alpha = 1.98\n",
    "\n",
    "def point2(X, sig2, Q, t_alpha):\n",
    "    djj = np.diagonal(np.linalg.inv(X.dot(X.T)))\n",
    "    sigma_qj = np.diagonal(sig2 * np.linalg.inv(X.dot(X.T)))**0.5\n",
    "\n",
    "    Q_min = Q - t_alpha * np.matrix(sigma_qj).T\n",
    "    Q_max = Q + t_alpha * np.matrix(sigma_qj).T\n",
    "    return djj, Q_min, Q_max, sigma_qj\n",
    "\n",
    "djj, Q_min, Q_max, sigma_qj = point2(X, sig2, Q, t_alpha)\n",
    "\n",
    "print(Q_min.T)\n",
    "print()\n",
    "print(Q_max.T)"
   ]
  },
  {
   "cell_type": "markdown",
   "metadata": {},
   "source": [
    "### 3. Проверить гипотезу о незначимости каждого параметра модели"
   ]
  },
  {
   "cell_type": "code",
   "execution_count": 4,
   "metadata": {},
   "outputs": [
    {
     "name": "stdout",
     "output_type": "stream",
     "text": [
      "1.1867490912078966\n",
      "Принимается\n",
      "2745.738288620568\n",
      "Отвергается\n",
      "1.9064108460282836\n",
      "Принимается\n",
      "0.7170917501990203\n",
      "Принимается\n",
      "2465.5856787409043\n",
      "Отвергается\n",
      "33.36929076523942\n",
      "Отвергается\n",
      "[1.0e-03 1.0e+00 1.0e-03 1.0e-04 1.0e+00 1.5e-02]\n",
      "[[0.00951659 0.98850368 0.00303716 0.00859673 0.98566248 0.01692272]]\n"
     ]
    }
   ],
   "source": [
    "# F_{1, 114} = 3.84144\n",
    "def check1(teta, sig2, djj):\n",
    "    f=[]\n",
    "    for i in range(len(teta)):\n",
    "        s = float(Q[i][0]**2/sig2/djj[i])\n",
    "        f.append(s)\n",
    "        print(f[i])\n",
    "        if float(f[i]) < 3.84144:\n",
    "            print('Принимается')\n",
    "        else:\n",
    "            print('Отвергается')\n",
    "        \n",
    "check1(teta, sig2, djj)\n",
    "print(teta)\n",
    "print(Q.T[0])"
   ]
  },
  {
   "cell_type": "markdown",
   "metadata": {},
   "source": [
    "### 4. Проверить гипотезу о значимости самой регрессии"
   ]
  },
  {
   "cell_type": "code",
   "execution_count": 5,
   "metadata": {},
   "outputs": [
    {
     "name": "stdout",
     "output_type": "stream",
     "text": [
      "1542.6086802512252\n",
      "Гипотеза отвергается\n"
     ]
    }
   ],
   "source": [
    "# alpha = 0.05 F_{5, 114} = 4.3985\n",
    "def check2(y, X, Q, u_arr):\n",
    "    RSS=(np.array(y)-X.T.dot(Q).T)\n",
    "    RSS=float(RSS.dot(RSS.T))\n",
    "    RSSh=0\n",
    "    for i in range(len(y)):\n",
    "        RSSh+=(y[i]-np.mean(u_arr))**2\n",
    "    m=6\n",
    "    n=120\n",
    "    q=m - 1\n",
    "    F=((RSSh-RSS)/q)/(RSS/(n-m))\n",
    "    string = \"\"\n",
    "    print(F)\n",
    "    if F < 4.3985: \n",
    "        string = \"Гипотеза принимается\"\n",
    "    else:\n",
    "        string = \"Гипотеза отвергается\"\n",
    "    return string\n",
    "\n",
    "print(check2(y, X, Q, u_arr))    \n"
   ]
  },
  {
   "cell_type": "markdown",
   "metadata": {},
   "source": [
    "### 5. Рассчитать прогнозные значения для математического ожидания функции отклика для всего интервала действия одного из факторов, зафиксировав значения других факторов на границе или в центре области их определения"
   ]
  },
  {
   "cell_type": "code",
   "execution_count": 6,
   "metadata": {},
   "outputs": [],
   "source": [
    "def sigma_nu (x1, x2) : \n",
    "    return sig2*np.array(f(x1,x2)*np.linalg.inv(X.dot(X.T))*np.matrix(f(x1,x2)).T)**0.5\n",
    "\n",
    "nu = lambda x1, x2, Q : sum(np.array([1*Q[0], x1*Q[1], x1**2*Q[2], x2**2*Q[3], x2*Q[4], x1 * x2*Q[5]]))\n",
    "nu_min = lambda x1, x2, Q : np.float64(nu(x1,x2,Q) - t_alpha*(sigma_nu(x1,x2)[0][0]))\n",
    "nu_max = lambda x1, x2, Q : np.float64(nu(x1,x2,Q) + t_alpha*(sigma_nu(x1,x2)[0][0]))\n",
    "\n"
   ]
  },
  {
   "cell_type": "markdown",
   "metadata": {},
   "source": [
    "### 6. Построить график прогнозных значений и доверительной полосы для математического ожидания функции отклика и для самого отклика"
   ]
  },
  {
   "cell_type": "code",
   "execution_count": 7,
   "metadata": {},
   "outputs": [
    {
     "data": {
      "image/png": "[encoded data removed]",
      "text/plain": [
       "<Figure size 432x288 with 1 Axes>"
      ]
     },
     "metadata": {
      "needs_background": "light"
     },
     "output_type": "display_data"
    },
    {
     "data": {
      "image/png": "[encoded data removed]",
      "text/plain": [
       "<Figure size 432x288 with 1 Axes>"
      ]
     },
     "metadata": {
      "needs_background": "light"
     },
     "output_type": "display_data"
    },
    {
     "data": {
      "image/png": "[encoded data removed]",
      "text/plain": [
       "<Figure size 432x288 with 1 Axes>"
      ]
     },
     "metadata": {
      "needs_background": "light"
     },
     "output_type": "display_data"
    },
    {
     "data": {
      "image/png": "[encoded data removed]",
      "text/plain": [
       "<Figure size 432x288 with 1 Axes>"
      ]
     },
     "metadata": {
      "needs_background": "light"
     },
     "output_type": "display_data"
    }
   ],
   "source": [
    "fig = plt.subplots()\n",
    "\n",
    "x = []\n",
    "x1 = np.linspace(-6, -1,100)\n",
    "x2 = np.linspace(1, 6, 100)\n",
    "\n",
    "for i in range(100):\n",
    "    x.append(x1[i])\n",
    "    \n",
    "for i in range(100):\n",
    "    x.append(x2[i])    \n",
    "\n",
    "plt.scatter(np.float64(x), nu(np.float64(x), 0, np.array(teta)))\n",
    "plt.scatter(np.float64(x), nu_min(np.float64(x), 0, np.array(teta)))\n",
    "plt.scatter(np.float64(x), nu_max(np.float64(x), 0, np.array(teta)))\n",
    "plt.title('u(x1, 0)')\n",
    "plt.show()\n",
    "\n",
    "x = np.linspace(1, 1.005, 100)\n",
    "fig = plt.subplots()\n",
    "plt.plot(np.float64(x), nu(np.float64(x), 0, np.array(teta)))\n",
    "plt.plot(np.float64(x), nu_min(np.float64(x), 0, np.array(teta)))\n",
    "plt.plot(np.float64(x), nu_max(np.float64(x), 0, np.array(teta)))\n",
    "plt.title('u(x1, 0)')\n",
    "plt.show()\n",
    "\n",
    "\n",
    "fig = plt.subplots()\n",
    "x = np.linspace(-10, 10,100)\n",
    "plt.plot(x, nu(0.002, x, np.array(teta)))\n",
    "plt.plot(x, nu_min(0.002, x, np.array(teta)))\n",
    "plt.plot(x, nu_max(0.002, x, np.array(teta)))\n",
    "plt.title('u(0.002, x2)')\n",
    "plt.show()\n",
    "\n",
    "fig = plt.subplots()\n",
    "x = np.linspace(0, 0.05,100)\n",
    "plt.plot(x, nu(0.2, x, np.array(teta)))\n",
    "plt.plot(x, nu_min(0.2, x, np.array(teta)))\n",
    "plt.plot(x, nu_max(0.2, x, np.array(teta)))\n",
    "plt.title('u(0.2, x2)')\n",
    "plt.show()\n"
   ]
  },
  {
   "cell_type": "markdown",
   "metadata": {},
   "source": [
    "### 7. Заново смоделировать исходные данные (см. лаб. работу № 1), увеличив мощность случайной помехи до 50…70 % от мощности полезного сигнала и провести оценку параметров. Повторить пункты 3, 4 с новыми данными\n"
   ]
  },
  {
   "cell_type": "code",
   "execution_count": 8,
   "metadata": {},
   "outputs": [
    {
     "name": "stdout",
     "output_type": "stream",
     "text": [
      "0.036755934725724464\n",
      "Принимается\n",
      "85.04087178844132\n",
      "Отвергается\n",
      "0.05904526334686987\n",
      "Принимается\n",
      "0.022209730563891684\n",
      "Принимается\n",
      "76.36399887716948\n",
      "Отвергается\n",
      "1.0335120391476218\n",
      "Принимается\n",
      "[1.0e-03 1.0e+00 1.0e-03 1.0e-04 1.0e+00 1.5e-02]\n",
      "[[0.00951659 0.98850368 0.00303716 0.00859673 0.98566248 0.01692272]]\n",
      "50.03042798531605\n",
      "Гипотеза отвергается\n"
     ]
    }
   ],
   "source": [
    "x1_arr1, x2_arr1 = generateData()\n",
    "\n",
    "Q_new, F_new, X_new, sig2_new, y_new, u_new = lab_2(f, teta, u, x1_arr1, x2_arr1, 0.67)\n",
    "djj, Q_min, Q_max, sigma_qj = point2(X, sig2, Q, t_alpha)\n",
    "\n",
    "# Пункт 3\n",
    "check1(teta, sig2_new, djj)\n",
    "print(teta)\n",
    "print(Q.T[0])\n",
    "\n",
    "# Пункт 4\n",
    "print(check2(y_new, X_new, Q_new, u_new))   \n"
   ]
  }
 ],
 "metadata": {
  "kernelspec": {
   "display_name": "Python 3",
   "language": "python",
   "name": "python3"
  },
  "language_info": {
   "codemirror_mode": {
    "name": "ipython",
    "version": 3
   },
   "file_extension": ".py",
   "mimetype": "text/x-python",
   "name": "python",
   "nbconvert_exporter": "python",
   "pygments_lexer": "ipython3",
   "version": "3.8.3"
  }
 },
 "nbformat": 4,
 "nbformat_minor": 4
}
