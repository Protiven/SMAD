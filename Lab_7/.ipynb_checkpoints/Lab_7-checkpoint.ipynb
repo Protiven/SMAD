{
 "cells": [
  {
   "cell_type": "code",
   "execution_count": 3,
   "metadata": {},
   "outputs": [],
   "source": [
    "# info from lab_2\n",
    "import random as rnd\n",
    "u1 = lambda x1, x2: 1 * 0.001 + 1 / x1 * 1 + x1 * 0.001 + x2 * 0.0001 + x2**2 * 1\n",
    "\n",
    "x1_points = []\n",
    "x2_points = []\n",
    "\n",
    "for s in range(0, 120):\n",
    "    x2_points.append((rnd.random() - 0.5) * 2)\n",
    "    \n",
    "for s in range(0, 60):\n",
    "    x1_points.append(-rnd.random() * 5 - 1)\n",
    "    x1_points.append(rnd.random() * 5 + 1)\n",
    "    \n",
    "for s in range(0, len(x1_points)):\n",
    "    if x1_points[s] == 0 or x2_points[s] == 0:\n",
    "        x1_points.remove(s)\n",
    "        x2_points.remove(s)\n",
    "        \n",
    "import numpy as np\n",
    "import pandas \n",
    "pandas.set_option(\"display.max_rows\", None, \"display.max_columns\", None)\n",
    "\n",
    "x1_points = np.array(x1_points)\n",
    "x2_points = np.array(x2_points)\n",
    "\n",
    "# Получаем Y\n",
    "u_arr = np.empty(len(x1_points))\n",
    "u_arr = u1(x1_points, x2_points)\n",
    "\n",
    "vect_arr_u = np.array(u_arr)\n",
    "average_u = vect_arr_u.mean()\n",
    "\n",
    "w2 = np.dot(vect_arr_u - average_u, vect_arr_u - average_u) / (len(vect_arr_u - 1))\n",
    "p = 0.13\n",
    "sig = p * (w2)**0.5\n",
    "\n",
    "# Сгенерировали U с помехами\n",
    "y = []\n",
    "for i in range(len(x1_points)):\n",
    "    y.append(u_arr[i] + np.random.normal(0, sig))\n",
    "    \n",
    "\n",
    "info = np.matrix([x1_points.T, x2_points, y, u_arr]).T\n",
    "DF = pandas.DataFrame(info, columns=['X1','X2', 'Y', 'U'])"
   ]
  },
  {
   "cell_type": "code",
   "execution_count": 4,
   "metadata": {},
   "outputs": [],
   "source": [
    "f = open('EXS_some_data.txt', 'w')\n",
    "f.write(\"2 \" + str(len(x2_points)) + '\\n')\n",
    "for i in range(len(x1_points)):\n",
    "    f.write(str(x1_points[i]) + ' ' + str(x2_points[i]) + ' ' + str(u_arr[i]) + '\\n')\n",
    "f.close()"
   ]
  },
  {
   "cell_type": "code",
   "execution_count": null,
   "metadata": {},
   "outputs": [],
   "source": []
  }
 ],
 "metadata": {
  "kernelspec": {
   "display_name": "Python 3",
   "language": "python",
   "name": "python3"
  },
  "language_info": {
   "codemirror_mode": {
    "name": "ipython",
    "version": 3
   },
   "file_extension": ".py",
   "mimetype": "text/x-python",
   "name": "python",
   "nbconvert_exporter": "python",
   "pygments_lexer": "ipython3",
   "version": "3.8.3"
  }
 },
 "nbformat": 4,
 "nbformat_minor": 4
}
