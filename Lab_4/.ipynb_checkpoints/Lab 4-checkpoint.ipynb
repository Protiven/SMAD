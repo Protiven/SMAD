{
 "cells": [
  {
   "cell_type": "markdown",
   "metadata": {},
   "source": [
    "# Lab_4\n",
    "1. Провести моделирование регрессионного процесса с гетероскедастичным возмущением.\n",
    "2. Полученные данные проверить по тестам на наличие гетероскедастичности.\n",
    "3. Провести оценивание параметров регрессионной модели\n",
    "по доступному обобщенному МНК и по обыкновенному МНК.\n",
    "4. Сравнить эффективность оценок в этих двух случаях по\n",
    "квадрату их расстояния до известных истинных значений параметров. "
   ]
  },
  {
   "cell_type": "markdown",
   "metadata": {},
   "source": [
    "## Инициализация программы"
   ]
  },
  {
   "cell_type": "code",
   "execution_count": 1,
   "metadata": {},
   "outputs": [],
   "source": [
    "import numpy as np\n",
    "import random as rnd\n",
    "import math\n",
    "\n",
    "f = lambda x1, x2 : np.array([1, 1/x1, x1, x2, x2**2]) \n",
    "teta = np.array([0.001, 1, 0.001, 0.0001, 1])\n",
    "u = lambda x1, x2: 0.001 + 1/x1 + x1* 0.001 + x2*0.0001 + x2**2\n",
    "\n",
    "# Генерирует точки (120)\n",
    "def generateData():\n",
    "    import random as rnd\n",
    "\n",
    "    x1_points = []\n",
    "    x2_points = []\n",
    "\n",
    "    for s in range(0, 120):\n",
    "        x2_points.append((rnd.random() - 0.5) * 2)\n",
    "\n",
    "    for s in range(0, 60):\n",
    "        x1_points.append(-rnd.random() * 5 - 1)\n",
    "        x1_points.append(rnd.random() * 5 + 1)\n",
    "    return x1_points, x2_points\n",
    "\n",
    "# Строит модель из 2 лабы\n",
    "def lab_2(f, teta, u, x1_array, x2_array, p):   \n",
    "    vector_u = list()\n",
    "\n",
    "    # Рассчиатли U\n",
    "    for i in range(len(x1_array)):\n",
    "        vector_u.append(u(x1_array[i], x2_array[i]))\n",
    "\n",
    "    vect_arr_u = np.array(vector_u)\n",
    "    average_u = vect_arr_u.mean()\n",
    "\n",
    "    w2 = np.dot(vect_arr_u - average_u, vect_arr_u - average_u) / (len(vect_arr_u - 1))  \n",
    "    sig = p * (w2)**0.5\n",
    "\n",
    "    # Сгенерировали U с помехами (y)\n",
    "    y = []\n",
    "    for i in range(len(x1_array)):\n",
    "        y.append(vector_u[i] + np.random.normal(0, sig))\n",
    "    \n",
    "    # Построение матрицы X\n",
    "    X = []\n",
    "    for i in range(len(teta)):\n",
    "        X.append([])\n",
    "        for j in range(len(x1_array)):\n",
    "            X[i].append(f(x1_array[j], x2_array[j])[i])\n",
    "\n",
    "    X = np.matrix(X)\n",
    "\n",
    "    Q_ = X.dot(X.T)\n",
    "    Q_ = np.linalg.inv(Q_)\n",
    "    Q_ = Q_.dot(X)\n",
    "    Q_ = Q_ * np.matrix(y).T\n",
    "    \n",
    "    e = []\n",
    "    e = y - (X.T).dot(np.matrix(teta).T).T\n",
    "    sigma2 = float(e.dot(e.T)/(len(vect_arr_u)-len(teta))) # Несмещенная оценка оценка дисперсии\n",
    "\n",
    "    F = sigma2 / sig**2\n",
    "        \n",
    "    return Q_, F, X, sigma2, y, vector_u"
   ]
  },
  {
   "cell_type": "markdown",
   "metadata": {},
   "source": [
    "## 1. Провести моделирование регрессионного процесса с гетероскедастичным возмущением."
   ]
  },
  {
   "cell_type": "code",
   "execution_count": 2,
   "metadata": {},
   "outputs": [],
   "source": [
    "x1_arr, x2_arr = generateData()\n",
    "Q_, F, X, sigma2, y, u_arr = lab_2(f, teta, u, x1_arr, x2_arr, 0.07)\n",
    "\n",
    "def someVal(x):\n",
    "    l = [];\n",
    "    for i in range(len(x)):\n",
    "        l.append(float(math.exp(abs(x[i]))))\n",
    "    l = np.array(l, dtype = float)\n",
    "    return l\n",
    "\n",
    "z = np.array([1, someVal(y)])"
   ]
  },
  {
   "cell_type": "markdown",
   "metadata": {},
   "source": [
    "## 2. Полученные данные проверить по тестам на наличие гетероскедастичности.\n",
    "### 1) Тест Бреуша-Пагана"
   ]
  },
  {
   "cell_type": "code",
   "execution_count": 3,
   "metadata": {},
   "outputs": [
    {
     "name": "stdout",
     "output_type": "stream",
     "text": [
      "Гипотеза о гомоскедастичности принимается.\n"
     ]
    }
   ],
   "source": [
    "e_t = np.array(y) - np.array(u_arr)\n",
    "sigma_tilda_2 = sum(e_t**2) / 120\n",
    "\n",
    "someConst = e_t**2/sigma_tilda_2\n",
    "\n",
    "mean_val = someConst.mean()\n",
    "ESS = 0\n",
    "\n",
    "for i in range(len(someConst)):\n",
    "    ESS+=(someConst[i] - mean_val)**2\n",
    "\n",
    "from scipy.stats import chi2\n",
    "value = chi2.ppf(0.95, len(someVal(y)))\n",
    "\n",
    "if ESS/2 < value:\n",
    "    print('Гипотеза о гомоскедастичности принимается.')\n",
    "else:\n",
    "    print('Гипотеза о гомоскедастичности отвергается.')"
   ]
  },
  {
   "cell_type": "markdown",
   "metadata": {},
   "source": [
    "### 2) Тест Голдфельда-Квандтона"
   ]
  },
  {
   "cell_type": "code",
   "execution_count": 4,
   "metadata": {},
   "outputs": [],
   "source": [
    "import pandas as pd\n",
    "\n",
    "def someFunc(x1, x2):\n",
    "    l = []\n",
    "    for i in range(len(x1)):\n",
    "        l.append(x1[i]**2 + x2[i]**2)\n",
    "    l = np.array(l)\n",
    "    return l\n",
    "    \n",
    "values = pd.DataFrame({'x1': x1_arr, 'x2': x2_arr, 'y': y, 'u': u_arr, 'x**2': someFunc(x1_arr, x2_arr)})\n",
    "\n",
    "# Сортировка по возрастанию квадрата\n",
    "values = values.sort_values(by=['x**2'])\n",
    "values = values.reset_index(drop=True)"
   ]
  },
  {
   "cell_type": "code",
   "execution_count": 5,
   "metadata": {},
   "outputs": [
    {
     "name": "stdout",
     "output_type": "stream",
     "text": [
      "Гипотеза о гомоскедастичности принимается.\n"
     ]
    }
   ],
   "source": [
    "pd.set_option(\"display.max_rows\", None, \"display.max_columns\", None)\n",
    "nc = len(x1_arr)/3\n",
    "# Удалить nc центральную выборку\n",
    "newTable = values.drop(np.r_[nc:119 - nc])\n",
    "\n",
    "# Оценка по первым (n-nc)/2 наблюдений\n",
    "X = []\n",
    "for i in range(len(teta)):\n",
    "    X.append([])\n",
    "    for j in range(int(nc)):\n",
    "        X[i].append(f(newTable['x1'][j],newTable['x2'][j])[i])\n",
    "X = np.matrix(X)\n",
    "\n",
    "Q_T = np.linalg.inv(X.dot(X.T))\n",
    "Q_T = Q_T.dot(X)\n",
    "Q_T = Q_T.dot(np.matrix(newTable['y'][0:int(nc)]).T)\n",
    "\n",
    "RSS1=(np.array(newTable['y'][0:int(nc)])-X.T.dot(Q_T).T)\n",
    "RSS1=float(RSS1.dot(RSS1.T))\n",
    "\n",
    "# Оценка по последним (n-nc)/2 наблюдений\n",
    "n = len(x1_arr)\n",
    "X = []\n",
    "\n",
    "for i in range(len(teta)):\n",
    "    X.append([])\n",
    "    for j in range(int(n - nc - 1), int(n - 1), 1):\n",
    "        X[i].append(f(newTable['x1'][j],newTable['x2'][j])[i])\n",
    "X = np.matrix(X)\n",
    "\n",
    "Q_T = np.linalg.inv(X.dot(X.T))\n",
    "Q_T = Q_T.dot(X)\n",
    "\n",
    "newTable = newTable.reset_index(drop=True)\n",
    "Q_T = Q_T.dot(np.matrix(newTable.y[40:80]).T)\n",
    "RSS2=(np.array(newTable['y'][40:80])-X.T.dot(Q_T).T)\n",
    "RSS2=float(RSS2.dot(RSS2.T))\n",
    "\n",
    "\n",
    "from scipy.stats import f\n",
    "k = 5\n",
    "value = f.ppf(0.95, (n - nc - 2*k)/2, (n - nc - 2*k) / 2)\n",
    "if RSS1/RSS2 < value:\n",
    "    print('Гипотеза о гомоскедастичности принимается.')\n",
    "else:\n",
    "    print('Гипотеза о гомоскедастичности отвергается.')"
   ]
  },
  {
   "cell_type": "markdown",
   "metadata": {},
   "source": [
    "## 3. Провести оценивание параметров регрессионной модели по доступному обобщенному МНК и по обыкновенному МНК."
   ]
  },
  {
   "cell_type": "code",
   "execution_count": 14,
   "metadata": {},
   "outputs": [],
   "source": [
    "# обобщенный МНК\n",
    "f = lambda x1, x2 : np.array([1, 1/x1, x1, x2, x2**2]) \n",
    "\n",
    "X_new = []\n",
    "for i in range(len(teta)):\n",
    "    X_new.append([])\n",
    "    for j in range(len(x1_arr)):\n",
    "        X_new[i].append(f(x1_arr[j], x2_arr[j])[i])\n",
    "\n",
    "X_new = np.matrix(X_new)\n",
    "V = np.matrix(np.diag(someVal(y)))\n",
    "Q_1 = X_new.dot(np.linalg.inv(V))\n",
    "Q_1 = np.linalg.inv(Q_1.dot(X_new.T))\n",
    "Q_1 = Q_1.dot(X_new.dot( np.linalg.inv(V)))\n",
    "Q_1 = Q_1.dot(np.matrix(y).T)"
   ]
  },
  {
   "cell_type": "code",
   "execution_count": 19,
   "metadata": {},
   "outputs": [
    {
     "name": "stdout",
     "output_type": "stream",
     "text": [
      "Истинные значения [1.e-03 1.e+00 1.e-03 1.e-04 1.e+00]\n",
      "МНК [[-7.62359016e-04  9.94902563e-01  1.74470421e-03 -1.04486332e-02\n",
      "   1.00078487e+00]]\n",
      "ОМНК [[-0.00223446  0.99000916  0.00199765 -0.00936709  1.00382756]]\n"
     ]
    }
   ],
   "source": [
    "print('Истинные значения', teta)\n",
    "print('МНК', Q_.T)\n",
    "print('ОМНК', Q_1.T)"
   ]
  },
  {
   "cell_type": "markdown",
   "metadata": {},
   "source": [
    "## 4. Сравнить эффективность оценок в этих двух случаях по квадрату их расстояния до известных истинных значений параметров."
   ]
  },
  {
   "cell_type": "code",
   "execution_count": 31,
   "metadata": {},
   "outputs": [
    {
     "name": "stdout",
     "output_type": "stream",
     "text": [
      "Сравнение МНК с истиной 0.0001415340422534778\n"
     ]
    }
   ],
   "source": [
    "print('Сравнение МНК с истиной', np.linalg.norm(teta - Q_.T)**2)"
   ]
  },
  {
   "cell_type": "code",
   "execution_count": 32,
   "metadata": {},
   "outputs": [
    {
     "name": "stdout",
     "output_type": "stream",
     "text": [
      "Сравнение ОМНК с истиной 0.00021554981153097327\n"
     ]
    }
   ],
   "source": [
    "print('Сравнение ОМНК с истиной',np.linalg.norm(teta - Q_1.T)**2)"
   ]
  },
  {
   "cell_type": "code",
   "execution_count": null,
   "metadata": {},
   "outputs": [],
   "source": []
  }
 ],
 "metadata": {
  "kernelspec": {
   "display_name": "Python 3",
   "language": "python",
   "name": "python3"
  },
  "language_info": {
   "codemirror_mode": {
    "name": "ipython",
    "version": 3
   },
   "file_extension": ".py",
   "mimetype": "text/x-python",
   "name": "python",
   "nbconvert_exporter": "python",
   "pygments_lexer": "ipython3",
   "version": "3.8.3"
  }
 },
 "nbformat": 4,
 "nbformat_minor": 4
}
