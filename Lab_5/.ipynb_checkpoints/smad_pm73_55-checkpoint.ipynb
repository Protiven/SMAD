{
 "cells": [
  {
   "cell_type": "code",
   "execution_count": 1,
   "metadata": {
    "executionInfo": {
     "elapsed": 9725,
     "status": "ok",
     "timestamp": 1605946154231,
     "user": {
      "displayName": "Александр Щербаков",
      "photoUrl": "",
      "userId": "09685896952816932585"
     },
     "user_tz": -420
    },
    "id": "z6-rfe0trRUF"
   },
   "outputs": [],
   "source": [
    "import numpy as np\n",
    "import pandas as pd\n",
    "# 1. Генерация данных\n",
    "# Имитационная модель объекта\n",
    "def eta(x):\n",
    "  eta_vec = np.empty(len(x))\n",
    "  for i in range(len(x)):\n",
    "    eta_vec[i] = np.sum(x[i,:])\n",
    "  return eta_vec\n",
    "\n",
    "# Генерация плана эксперимента\n",
    "def generate_X():\n",
    "    X = []\n",
    "    for x1 in np.linspace(-1, 1, 5):\n",
    "      for x3 in np.linspace(-2, 2, 10): \n",
    "        for x5 in np.linspace(-0.5, 0.5, 5):\n",
    "          for x6 in np.linspace(-1, 1, 5):\n",
    "            for x7 in np.linspace(-3, 3, 15):\n",
    "              for x8 in np.linspace(-1, 1, 5):\n",
    "                e = []\n",
    "                for i in range(2):\n",
    "                  np.random.seed(i)\n",
    "                  e.append(np.random.normal(loc=0, scale=0.001))\n",
    "                X.append([1, x1, x1 + e[0], x3, x3 + e[1], x5, x6, x7, x8])\n",
    "    return np.matrix(X)\n",
    "\n",
    "# Зашумление данных\n",
    "def noise_data(u):\n",
    "    y = np.copy(u)\n",
    "    np.random.seed(0)\n",
    "    for j in range(len(u)):\n",
    "        ej = np.random.normal(loc=0, scale=(0.1*np.average(u))**(1/2))\n",
    "        y[j] += ej\n",
    "    return y\n",
    "\n",
    "X = generate_X()\n",
    "u = eta(X)\n",
    "y = noise_data(u)"
   ]
  },
  {
   "cell_type": "code",
   "execution_count": 2,
   "metadata": {
    "colab": {
     "base_uri": "https://localhost:8080/"
    },
    "executionInfo": {
     "elapsed": 9715,
     "status": "ok",
     "timestamp": 1605946154234,
     "user": {
      "displayName": "Александр Щербаков",
      "photoUrl": "",
      "userId": "09685896952816932585"
     },
     "user_tz": -420
    },
    "id": "vM0FGhJF5jT9",
    "outputId": "ce8a9810-f83b-4a20-fe34-f12662f13ff0"
   },
   "outputs": [
    {
     "name": "stdout",
     "output_type": "stream",
     "text": [
      "Определитель информационной матрицы = 1.4369e+14\n",
      "Минимальное собственное число информационной матрицы = 5.0149e-11\n",
      "Мера обусловленности матрицы по Нейману-Голдстейну = 6.4095e+15\n"
     ]
    }
   ],
   "source": [
    "# 2. Показатели, характеризующие эффект мультиколлинеарности\n",
    "# 2.1. Определитель информационной матрицы\n",
    "det = np.linalg.det(X.T*X)\n",
    "print(\"Определитель информационной матрицы =\", '{:.4e}'.format(det))\n",
    "# 2.2. Минимальное собственное число информационной матрицы\n",
    "X_eig, _ = np.linalg.eig(X.T*X)\n",
    "min_l1 = min(X_eig)\n",
    "print(\"Минимальное собственное число информационной матрицы =\", '{:.4e}'.format(min_l1))\n",
    "# 2.3. Мера обусловленности матрицы по Нейману-Голдстейну\n",
    "m = max(X_eig) / min(X_eig)\n",
    "print(\"Мера обусловленности матрицы по Нейману-Голдстейну =\", '{:.4e}'.format(m))"
   ]
  },
  {
   "cell_type": "code",
   "execution_count": 3,
   "metadata": {
    "colab": {
     "base_uri": "https://localhost:8080/"
    },
    "executionInfo": {
     "elapsed": 9701,
     "status": "ok",
     "timestamp": 1605946154236,
     "user": {
      "displayName": "Александр Щербаков",
      "photoUrl": "",
      "userId": "09685896952816932585"
     },
     "user_tz": -420
    },
    "id": "BTQXp1Y3C0Rr",
    "outputId": "09126bb7-3cd1-4fd9-9a08-5bc71fb3cac3"
   },
   "outputs": [
    {
     "name": "stdout",
     "output_type": "stream",
     "text": [
      "Максимальная парная сопряженность = 9.9724e-01\n",
      "Максимальная сопряженность = 1.0000e+00\n"
     ]
    }
   ],
   "source": [
    "# 2.4. Максимальная парная сопряженность\n",
    "R = np.empty((9, 9))\n",
    "for i in range(9):\n",
    "  for j in range(9):\n",
    "    if i == j: \n",
    "      R[i][j] = -1\n",
    "    else: \n",
    "      #R[i][j] = cosine(X[i,:], X[j,:])\n",
    "      u, v = np.squeeze(np.asarray(X[i,:])), np.squeeze(np.asarray(X[j,:]))\n",
    "      R[i][j] = np.dot(u, v) / (np.sum(u**2)**(1/2) * np.sum(v**2)**(1/2))\n",
    "maxr = np.max(R)\n",
    "print(\"Максимальная парная сопряженность =\", '{:.4e}'.format(maxr))\n",
    "for i in range(9):\n",
    "  for j in range(9):\n",
    "    if i == j: R[i][j] = 1\n",
    "\n",
    "# Максимальная сопряженность\n",
    "invR = np.linalg.inv(R)\n",
    "diag = np.diag(invR)\n",
    "R_vec = np.sqrt(1 - 1 / diag)\n",
    "maxsopr = np.max(R_vec)\n",
    "print(\"Максимальная сопряженность =\", '{:.4e}'.format(maxsopr))"
   ]
  },
  {
   "cell_type": "code",
   "execution_count": 4,
   "metadata": {
    "executionInfo": {
     "elapsed": 9693,
     "status": "ok",
     "timestamp": 1605946154240,
     "user": {
      "displayName": "Александр Щербаков",
      "photoUrl": "",
      "userId": "09685896952816932585"
     },
     "user_tz": -420
    },
    "id": "2usnof1VkGUw"
   },
   "outputs": [],
   "source": [
    "# 3. Ридж - оценки\n",
    "def calc_theta(X, y, l):\n",
    "  XT_X = X.T*X\n",
    "  L = np.diag(l * np.diag(XT_X))\n",
    "  return np.array(np.dot(np.linalg.inv(XT_X + L)*X.T, y))[0]\n",
    "\n",
    "def calc_RSS(X, y, theta):\n",
    "  a = np.array(y - np.dot(X, theta))[0]\n",
    "  return np.sum(a ** 2)"
   ]
  },
  {
   "cell_type": "code",
   "execution_count": 5,
   "metadata": {
    "colab": {
     "base_uri": "https://localhost:8080/",
     "height": 307
    },
    "executionInfo": {
     "elapsed": 10662,
     "status": "ok",
     "timestamp": 1605946155218,
     "user": {
      "displayName": "Александр Щербаков",
      "photoUrl": "",
      "userId": "09685896952816932585"
     },
     "user_tz": -420
    },
    "id": "p7kYLvhJolnV",
    "outputId": "d9cf2edf-a799-4987-f96b-4718d91a8250"
   },
   "outputs": [
    {
     "data": {
      "text/plain": [
       "[<matplotlib.lines.Line2D at 0x229ca357430>]"
      ]
     },
     "execution_count": 5,
     "metadata": {},
     "output_type": "execute_result"
    },
    {
     "data": {
      "image/png": "[encoded data removed]",
      "text/plain": [
       "<Figure size 432x288 with 1 Axes>"
      ]
     },
     "metadata": {
      "needs_background": "light"
     },
     "output_type": "display_data"
    }
   ],
   "source": [
    "import matplotlib.pyplot as plt\n",
    "l = np.linspace(0, 50, 100)\n",
    "# RSS\n",
    "rss_s = [calc_RSS(X, y, calc_theta(X, y, l_cur)) for l_cur in l]\n",
    "ax = plt.axes()\n",
    "ax.set_xlabel(\"lambda\")\n",
    "ax.set_ylabel(\"RSS\")\n",
    "ax.plot(l, rss_s)"
   ]
  },
  {
   "cell_type": "code",
   "execution_count": 6,
   "metadata": {
    "colab": {
     "base_uri": "https://localhost:8080/",
     "height": 299
    },
    "executionInfo": {
     "elapsed": 11697,
     "status": "ok",
     "timestamp": 1605946156266,
     "user": {
      "displayName": "Александр Щербаков",
      "photoUrl": "",
      "userId": "09685896952816932585"
     },
     "user_tz": -420
    },
    "id": "Eqpd1SXF95me",
    "outputId": "33081490-009f-4eb9-988b-5ffbab2a9aa1"
   },
   "outputs": [
    {
     "data": {
      "text/plain": [
       "[<matplotlib.lines.Line2D at 0x229ca4064f0>]"
      ]
     },
     "execution_count": 6,
     "metadata": {},
     "output_type": "execute_result"
    },
    {
     "data": {
      "image/png": "[encoded data removed]",
      "text/plain": [
       "<Figure size 432x288 with 1 Axes>"
      ]
     },
     "metadata": {
      "needs_background": "light"
     },
     "output_type": "display_data"
    }
   ],
   "source": [
    "# beta\n",
    "ax1 = plt.axes()\n",
    "ax1.set_xlabel(\"lambda\")\n",
    "ax1.set_ylabel(\"||beta(lambda)||\")\n",
    "beta_s = [(np.sum(calc_theta(X, y, l_cur)**2))**(1/2) for l_cur in l]\n",
    "ax1.plot(l, beta_s)"
   ]
  },
  {
   "cell_type": "code",
   "execution_count": null,
   "metadata": {
    "colab": {
     "base_uri": "https://localhost:8080/"
    },
    "executionInfo": {
     "elapsed": 90823,
     "status": "ok",
     "timestamp": 1605946235401,
     "user": {
      "displayName": "Александр Щербаков",
      "photoUrl": "",
      "userId": "09685896952816932585"
     },
     "user_tz": -420
    },
    "id": "dSDXb28cYDZz",
    "outputId": "d82c8170-9d30-4d15-b2c5-48de763bda00"
   },
   "outputs": [],
   "source": [
    "l_new = np.linspace(0, 50, 10000)\n",
    "diffs = []\n",
    "for l_cur in l_new:\n",
    "  true_vals = np.linalg.norm(np.ones(9))\n",
    "  theta = calc_theta(X, y, l_cur)\n",
    "  cur_vals = np.linalg.norm(theta)\n",
    "  diff = abs(true_vals - cur_vals)\n",
    "  diffs.append(diff)\n",
    "index_min = np.argmin(diffs)\n",
    "index_max = np.argmax(diffs)\n",
    "l_test = l_new[index_min]\n",
    "print(\"theta =\", calc_theta(X, y, l_test))\n",
    "print(\"l =\", '{:.4e}'.format(l_test))"
   ]
  },
  {
   "cell_type": "code",
   "execution_count": null,
   "metadata": {
    "colab": {
     "base_uri": "https://localhost:8080/"
    },
    "executionInfo": {
     "elapsed": 90815,
     "status": "ok",
     "timestamp": 1605946235402,
     "user": {
      "displayName": "Александр Щербаков",
      "photoUrl": "",
      "userId": "09685896952816932585"
     },
     "user_tz": -420
    },
    "id": "xwiGfYJsjkhp",
    "outputId": "0a3961fd-fee7-484e-d662-fc422777df33"
   },
   "outputs": [],
   "source": [
    "diff = (np.sum((np.ones(9) - calc_theta(X, y, l_test))**2))**(1/2)\n",
    "print(\"||theta = theta*|| =\", '{:.4e}'.format(diff))"
   ]
  },
  {
   "cell_type": "code",
   "execution_count": null,
   "metadata": {
    "colab": {
     "base_uri": "https://localhost:8080/"
    },
    "executionInfo": {
     "elapsed": 90807,
     "status": "ok",
     "timestamp": 1605946235403,
     "user": {
      "displayName": "Александр Щербаков",
      "photoUrl": "",
      "userId": "09685896952816932585"
     },
     "user_tz": -420
    },
    "id": "bVt4xqmSCJDE",
    "outputId": "37b06944-6f00-40d2-9156-a9e8e85828c8"
   },
   "outputs": [],
   "source": [
    "l_best = 20\n",
    "print(\"Наилучшее lambda =\", '{:.4e}'.format(l_best))\n",
    "print(\"RSS =\", '{:.4e}'.format(rss_s[-1]))\n",
    "print(\"|beta| =\", '{:.4e}'.format(beta_s[-1]))"
   ]
  },
  {
   "cell_type": "code",
   "execution_count": null,
   "metadata": {
    "colab": {
     "base_uri": "https://localhost:8080/"
    },
    "executionInfo": {
     "elapsed": 90798,
     "status": "ok",
     "timestamp": 1605946235403,
     "user": {
      "displayName": "Александр Щербаков",
      "photoUrl": "",
      "userId": "09685896952816932585"
     },
     "user_tz": -420
    },
    "id": "HTDBatYQErs6",
    "outputId": "093c95a6-b5cc-408f-9cca-a9e97dc9b3ea"
   },
   "outputs": [],
   "source": [
    "best_theta = calc_theta(X, y, l_best)\n",
    "np.set_printoptions(precision=4)\n",
    "print(\"theta* =\", best_theta)"
   ]
  },
  {
   "cell_type": "code",
   "execution_count": null,
   "metadata": {
    "colab": {
     "base_uri": "https://localhost:8080/"
    },
    "executionInfo": {
     "elapsed": 90791,
     "status": "ok",
     "timestamp": 1605946235404,
     "user": {
      "displayName": "Александр Щербаков",
      "photoUrl": "",
      "userId": "09685896952816932585"
     },
     "user_tz": -420
    },
    "id": "Oq-hxvEtITRn",
    "outputId": "7f34e2e0-4af6-47d2-bc3f-cbdf68ce0313"
   },
   "outputs": [],
   "source": [
    "diff = (np.sum((np.ones(9) - best_theta)**2))**(1/2)\n",
    "print(\"||theta = theta*|| =\", '{:.4e}'.format(diff))"
   ]
  },
  {
   "cell_type": "code",
   "execution_count": null,
   "metadata": {
    "colab": {
     "base_uri": "https://localhost:8080/"
    },
    "executionInfo": {
     "elapsed": 90783,
     "status": "ok",
     "timestamp": 1605946235404,
     "user": {
      "displayName": "Александр Щербаков",
      "photoUrl": "",
      "userId": "09685896952816932585"
     },
     "user_tz": -420
    },
    "id": "Ya4IFXP_jsx_",
    "outputId": "1ed26a4c-7717-4cb6-d66d-4733133ec9c8"
   },
   "outputs": [],
   "source": [
    "# 4. Метод главных компонент\n",
    "# 4.1. Центрирование переменных\n",
    "y_c = y - np.average(y)\n",
    "X_c = X.copy()\n",
    "for i in range(9):\n",
    "  X_c[1:,i] -= np.average(X_c[1:,i])\n",
    "# 4.2. Найдем собственные значения и собственные векторы\n",
    "X_c_eig_vals, V = np.linalg.eig(X_c.T*X_c)\n",
    "print(\"Собственные значения:\", X_c_eig_vals)\n",
    "X_eig_importances = X_c_eig_vals / np.sum(X_c_eig_vals)\n",
    "print(\"Вклады собственных значений:\", X_eig_importances)\n",
    "Z = X_c * V"
   ]
  },
  {
   "cell_type": "code",
   "execution_count": null,
   "metadata": {
    "colab": {
     "base_uri": "https://localhost:8080/"
    },
    "executionInfo": {
     "elapsed": 90775,
     "status": "ok",
     "timestamp": 1605946235405,
     "user": {
      "displayName": "Александр Щербаков",
      "photoUrl": "",
      "userId": "09685896952816932585"
     },
     "user_tz": -420
    },
    "id": "NS9hIHRGt67N",
    "outputId": "a643be15-d36d-4816-a7c4-c4a62b855b9c"
   },
   "outputs": [],
   "source": [
    "to_del = []\n",
    "for i in range(len(X_eig_importances)):\n",
    "  if X_eig_importances[i] < 1e-2:\n",
    "    to_del.append(i) \n",
    "to_del"
   ]
  },
  {
   "cell_type": "code",
   "execution_count": null,
   "metadata": {
    "colab": {
     "base_uri": "https://localhost:8080/"
    },
    "executionInfo": {
     "elapsed": 90767,
     "status": "ok",
     "timestamp": 1605946235405,
     "user": {
      "displayName": "Александр Щербаков",
      "photoUrl": "",
      "userId": "09685896952816932585"
     },
     "user_tz": -420
    },
    "id": "06E_Nm4MqHMy",
    "outputId": "48b929b1-2b61-405e-ddd5-2e7e722c6cf0"
   },
   "outputs": [],
   "source": [
    "Z_new = np.delete(Z, to_del, 1)\n",
    "V_new = np.delete(V, to_del, 1)\n",
    "print(\"Собственные значения с незначительным вкладом:\", X_c_eig_vals[to_del])"
   ]
  },
  {
   "cell_type": "code",
   "execution_count": null,
   "metadata": {
    "colab": {
     "base_uri": "https://localhost:8080/"
    },
    "executionInfo": {
     "elapsed": 90759,
     "status": "ok",
     "timestamp": 1605946235406,
     "user": {
      "displayName": "Александр Щербаков",
      "photoUrl": "",
      "userId": "09685896952816932585"
     },
     "user_tz": -420
    },
    "id": "upMQ-5Q6qXLF",
    "outputId": "a00786c8-c96e-4c00-e641-3b5c2358e381"
   },
   "outputs": [],
   "source": [
    "b = np.dot(np.linalg.inv(Z_new.T*Z_new)*Z_new.T, y_c)\n",
    "theta_pca = np.squeeze(np.asarray(np.dot(V_new, b.T)))\n",
    "print(\"theta* =\", theta_pca)"
   ]
  },
  {
   "cell_type": "code",
   "execution_count": null,
   "metadata": {
    "colab": {
     "base_uri": "https://localhost:8080/"
    },
    "executionInfo": {
     "elapsed": 90751,
     "status": "ok",
     "timestamp": 1605946235406,
     "user": {
      "displayName": "Александр Щербаков",
      "photoUrl": "",
      "userId": "09685896952816932585"
     },
     "user_tz": -420
    },
    "id": "gnLpPioMtFrM",
    "outputId": "25c11aca-c56c-49c6-edb1-44c2b382ed34"
   },
   "outputs": [],
   "source": [
    "diff_pca = (np.sum((theta_pca - np.ones(9))**2))**(1/2)\n",
    "print(\"||theta - theta*|| =\", '{:.4e}'.format(diff_pca))"
   ]
  },
  {
   "cell_type": "code",
   "execution_count": null,
   "metadata": {
    "executionInfo": {
     "elapsed": 90744,
     "status": "ok",
     "timestamp": 1605946235407,
     "user": {
      "displayName": "Александр Щербаков",
      "photoUrl": "",
      "userId": "09685896952816932585"
     },
     "user_tz": -420
    },
    "id": "i7TIJmsJrJ_D"
   },
   "outputs": [],
   "source": []
  }
 ],
 "metadata": {
  "colab": {
   "authorship_tag": "ABX9TyNlxEGfjFZAUfyR4A5O8O5s",
   "name": "smad_pm73_55.ipynb",
   "provenance": [
    {
     "file_id": "1Wi7OOckizSOGSkHYQS0uUKQCJZDEj0oz",
     "timestamp": 1605845714946
    }
   ]
  },
  "kernelspec": {
   "display_name": "Python 3",
   "language": "python",
   "name": "python3"
  },
  "language_info": {
   "codemirror_mode": {
    "name": "ipython",
    "version": 3
   },
   "file_extension": ".py",
   "mimetype": "text/x-python",
   "name": "python",
   "nbconvert_exporter": "python",
   "pygments_lexer": "ipython3",
   "version": "3.8.3"
  }
 },
 "nbformat": 4,
 "nbformat_minor": 1
}
