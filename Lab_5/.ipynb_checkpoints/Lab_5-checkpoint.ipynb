{
 "cells": [
  {
   "cell_type": "markdown",
   "metadata": {},
   "source": [
    "# Lab_5\n",
    "## Вариант задания: Регрессия на 7 факторах. Эффект мультиколлинеарности создают две пары факторов. Разброса в масштабах факторов нет\n",
    "\n",
    "#### 1. В соответствии с вариантом задания сгенерировать экспериментальные данные, в которых в явном виде присутствует эффект мультиколлинеарности.\n",
    "#### 2. Рассчитать ряд показателей, характеризующих эффект мультиколлинеарности. Определить факторы, ответственные за возникновение эффекта мультиколлинеарности.\n",
    "#### 3. Построить ридж-оценки параметров при различных значениях параметра регуляризации. Выбрать оптимальное значение параметра регуляризации. Построить графики изменения квадрата евклидовой нормы оценок параметров и остаточной суммы квадратов от параметра регуляризации.\n",
    "#### 4. Провести оценивание модели регрессии по методу главных компонентов. Перейти к описанию в исходном пространстве факторов. Сравнить решение с ридж-оцениванием по смещению оценок и точности предсказания отклика. "
   ]
  },
  {
   "cell_type": "markdown",
   "metadata": {},
   "source": [
    "## 1. В соответствии с вариантом задания сгенерировать экспериментальные данные, в которых в явном виде присутствует эффект мультиколлинеарности.\n",
    "\n",
    "#### Регрессия на 7 факторах. Эффект мультиколлинеарности создают две пары факторов. Разброса в масштабах факторов нет;"
   ]
  },
  {
   "cell_type": "code",
   "execution_count": 1,
   "metadata": {},
   "outputs": [],
   "source": [
    "# teta_i = 1 для каждого регрессора\n",
    "# x1, x2, x3, x4, x5, x1 + x2 * 0.01, x3 + x4 * 0.3\n",
    "import matplotlib.pyplot as plt\n",
    "import numpy as np\n",
    "import random as rnd\n",
    "\n",
    "countN = 120\n",
    "\n",
    "def getEta(X):\n",
    "    u = np.empty(countN)\n",
    "    for i in range(countN):\n",
    "        u[i] = np.sum(X[i, :])\n",
    "    return u\n",
    "    \n",
    "def getX():\n",
    "    # Генерация данных\n",
    "    x1 = np.empty(countN)\n",
    "    x2 = np.empty(countN)\n",
    "    x3 = np.empty(countN)\n",
    "    x4 = np.empty(countN)\n",
    "    x5 = np.empty(countN)\n",
    "    \n",
    "    for i in range(countN):\n",
    "        x1[i] = (rnd.random()-0.5) * 6\n",
    "        x2[i] = (rnd.random()-0.5) * 6\n",
    "        x3[i] = (rnd.random()-0.5) * 6\n",
    "        x4[i] = (rnd.random()-0.5) * 6\n",
    "        x5[i] = (rnd.random()-0.5) * 6\n",
    "    \n",
    "    X = np.array([np.ones(len(x1)), x1, x2, x3, x4, x5, 0.1*x1 + x2, x1 + 0.1*x2])\n",
    "    X = np.matrix(X)\n",
    "    return X"
   ]
  },
  {
   "cell_type": "markdown",
   "metadata": {},
   "source": [
    "## 2. Рассчитать ряд показателей, характеризующих эффект мультиколлинеарности. Определить факторы, ответственные за возникновение эффекта мультиколлинеарности.\n",
    "\n",
    "#### 1) Определитель информационной матрицы."
   ]
  },
  {
   "cell_type": "code",
   "execution_count": 2,
   "metadata": {},
   "outputs": [
    {
     "name": "stdout",
     "output_type": "stream",
     "text": [
      "Определитель матрицы = -0.000000\n"
     ]
    }
   ],
   "source": [
    "X = getX()\n",
    "print('Определитель матрицы = %7f' % np.linalg.det(X.T*X))"
   ]
  },
  {
   "cell_type": "markdown",
   "metadata": {},
   "source": [
    "#### 2) Минимальное собственное число матрицы XtX."
   ]
  },
  {
   "cell_type": "code",
   "execution_count": 3,
   "metadata": {},
   "outputs": [
    {
     "name": "stdout",
     "output_type": "stream",
     "text": [
      "Минимальное собственное число = 1.6102421162111675e-15\n"
     ]
    }
   ],
   "source": [
    "eigvalues, eigvectors = np.linalg.eig((X.T).dot(X))\n",
    "print('Минимальное собственное число =', min(abs(eigvalues)))"
   ]
  },
  {
   "cell_type": "markdown",
   "metadata": {},
   "source": [
    "#### 3) Мера обусловленности матрицы по Нейману-Голдстейну."
   ]
  },
  {
   "cell_type": "code",
   "execution_count": 4,
   "metadata": {},
   "outputs": [
    {
     "name": "stdout",
     "output_type": "stream",
     "text": [
      "Мера обусловленности по Нейману-Голдстейну = 1.0450288330890318e+16\n"
     ]
    }
   ],
   "source": [
    "maxEig = max(eigvalues)\n",
    "minEig = min(eigvalues)\n",
    "print('Мера обусловленности по Нейману-Голдстейну =', abs(maxEig/minEig))"
   ]
  },
  {
   "cell_type": "markdown",
   "metadata": {},
   "source": [
    "#### 4) Максимальная парная сопряженность."
   ]
  },
  {
   "cell_type": "code",
   "execution_count": 5,
   "metadata": {},
   "outputs": [
    {
     "name": "stdout",
     "output_type": "stream",
     "text": [
      "Максимальная парная сопряженность = 0.9951496110368568\n"
     ]
    }
   ],
   "source": [
    "R = np.empty((8, 8))\n",
    "for i in range(8):\n",
    "  for j in range(8):\n",
    "    if i == j: \n",
    "      R[i][j] = 1\n",
    "    else: \n",
    "      u, v = np.squeeze(np.asarray(X[i,:])), np.squeeze(np.asarray(X[j,:]))\n",
    "      R[i][j] = np.dot(u, v) / (np.sum(u**2)**(1/2) * np.sum(v**2)**(1/2))\n",
    "\n",
    "max_value = -1000\n",
    "for i in range(8):\n",
    "    for j in range(i):\n",
    "        if abs(R[i, j]) > max_value:\n",
    "            max_value = abs(R[i, j])\n",
    "\n",
    "R = np.matrix(R)\n",
    "print(\"Максимальная парная сопряженность =\", max_value)"
   ]
  },
  {
   "cell_type": "markdown",
   "metadata": {},
   "source": [
    "#### 5) Максимальная сопряженность."
   ]
  },
  {
   "cell_type": "code",
   "execution_count": 6,
   "metadata": {},
   "outputs": [
    {
     "name": "stdout",
     "output_type": "stream",
     "text": [
      "1.0\n"
     ]
    }
   ],
   "source": [
    "# Фиксируем независимую x1\n",
    "import math\n",
    "diag_Rsinv = np.diagonal(np.linalg.inv(R.conjugate()))\n",
    "Ri_2 = 1 - 1 / diag_Rsinv\n",
    "Ri_abs = abs(Ri_2**(1/2))\n",
    "print(max(Ri_abs))"
   ]
  },
  {
   "cell_type": "markdown",
   "metadata": {},
   "source": [
    "## 3. Построить ридж-оценки параметров при различных значениях параметра регуляризации. Выбрать оптимальное значение параметра регуляризации. Построить графики изменения квадрата евклидовой нормы оценок параметров и остаточной суммы квадратов от параметра регуляризации."
   ]
  },
  {
   "cell_type": "markdown",
   "metadata": {},
   "source": [
    "##### Для нахождения оптимального параметра регуляризации необходимо построить графики изменения квадрата евклидовой нормы оценок параметров и остаточной суммы квадратов от параметра регуляризации. Параметр 𝝀 будет определятся как некоторый компромисс между неизбежным увеличением остаточной  суммы квадратов и желаемым уменьшением евклидовой нормы оценок параметров."
   ]
  },
  {
   "cell_type": "code",
   "execution_count": 7,
   "metadata": {},
   "outputs": [],
   "source": [
    "def getRidjTheta(X, y, lam):\n",
    "    L = np.diag(lam * np.diag(X.T*X))\n",
    "    return np.array(np.dot(np.linalg.inv(X.T*X + L) * X.T, y))[0]\n",
    "\n",
    "def calcRss(X, y, th):\n",
    "    return np.sum(np.array(y - np.dot(X, th)) ** 2)\n",
    "\n",
    "def getUarray(X):\n",
    "    u = []\n",
    "    for i in range(len(X)):\n",
    "        u.append(np.sum(X[i, :]))\n",
    "    u = np.array(u)\n",
    "    return u\n",
    "    \n",
    "def getYarray(u, p = 0.05):\n",
    "    y = np.empty(len(u))\n",
    "    \n",
    "    w2 = np.dot(u - u.mean(), u - u.mean()) / (len(u - 1))  \n",
    "    sig = p * (w2)**0.5\n",
    "    for i in range(len(u)):\n",
    "        y[i] = u[i] + np.random.normal(0, sig)\n",
    "    return y"
   ]
  },
  {
   "cell_type": "code",
   "execution_count": 8,
   "metadata": {},
   "outputs": [
    {
     "data": {
      "text/plain": [
       "[<matplotlib.lines.Line2D at 0x16969db5790>]"
      ]
     },
     "execution_count": 8,
     "metadata": {},
     "output_type": "execute_result"
    },
    {
     "data": {
      "image/png": "[encoded data removed]",
      "text/plain": [
       "<Figure size 432x288 with 1 Axes>"
      ]
     },
     "metadata": {
      "needs_background": "light"
     },
     "output_type": "display_data"
    }
   ],
   "source": [
    "# RSS\n",
    "lamb = np.linspace(0, 10, 20)\n",
    "y = getYarray(getUarray(X))\n",
    "rss_arr = [calcRss(X, y, getRidjTheta(X, y, l_)) for l_ in lamb]\n",
    "ax = plt.axes()\n",
    "ax.set_xlabel(\"lambda\")\n",
    "ax.set_ylabel(\"RSS\")\n",
    "ax.plot(lamb, rss_arr)"
   ]
  },
  {
   "cell_type": "code",
   "execution_count": 9,
   "metadata": {},
   "outputs": [
    {
     "data": {
      "text/plain": [
       "[<matplotlib.lines.Line2D at 0x16969e31070>]"
      ]
     },
     "execution_count": 9,
     "metadata": {},
     "output_type": "execute_result"
    },
    {
     "data": {
      "image/png": "[encoded data removed]",
      "text/plain": [
       "<Figure size 432x288 with 1 Axes>"
      ]
     },
     "metadata": {
      "needs_background": "light"
     },
     "output_type": "display_data"
    }
   ],
   "source": [
    "# beta\n",
    "ax1 = plt.axes()\n",
    "ax1.set_xlabel(\"lambda\")\n",
    "ax1.set_ylabel(\"||beta(lambda)||\")\n",
    "beta_s = [(np.sum(getRidjTheta(X, y, l_)**2))**(1/2) for l_ in lamb]\n",
    "ax1.plot(lamb, beta_s)"
   ]
  },
  {
   "cell_type": "code",
   "execution_count": null,
   "metadata": {},
   "outputs": [],
   "source": []
  }
 ],
 "metadata": {
  "kernelspec": {
   "display_name": "Python 3",
   "language": "python",
   "name": "python3"
  },
  "language_info": {
   "codemirror_mode": {
    "name": "ipython",
    "version": 3
   },
   "file_extension": ".py",
   "mimetype": "text/x-python",
   "name": "python",
   "nbconvert_exporter": "python",
   "pygments_lexer": "ipython3",
   "version": "3.8.3"
  }
 },
 "nbformat": 4,
 "nbformat_minor": 4
}
