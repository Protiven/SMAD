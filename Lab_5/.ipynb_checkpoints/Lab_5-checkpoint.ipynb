{
 "cells": [
  {
   "cell_type": "markdown",
   "metadata": {},
   "source": [
    "# Lab_5\n",
    "#### 1. В соответствии с вариантом задания сгенерировать экспериментальные данные, в которых в явном виде присутствует эффект мультиколлинеарности.\n",
    "#### 2. Рассчитать ряд показателей, характеризующих эффект мультиколлинеарности. Определить факторы, ответственные за возникновение эффекта мультиколлинеарности.\n",
    "#### 3. Построить ридж-оценки параметров при различных значениях параметра регуляризации. Выбрать оптимальное значение параметра регуляризации. Построить графики изменения квадрата евклидовой нормы оценок параметров и остаточной суммы квадратов от параметра регуляризации.\n",
    "#### 4. Провести оценивание модели регрессии по методу главных компонентов. Перейти к описанию в исходном пространстве факторов. Сравнить решение с ридж-оцениванием по смещению оценок и точности предсказания отклика. "
   ]
  },
  {
   "cell_type": "markdown",
   "metadata": {},
   "source": [
    "## Инициализация программы"
   ]
  },
  {
   "cell_type": "code",
   "execution_count": 1,
   "metadata": {},
   "outputs": [],
   "source": [
    "import numpy as np\n",
    "import math\n",
    "\n",
    "\n",
    "# Генерирует точки (120) в [-2.5; 2.5]\n",
    "def generateData():\n",
    "    import random as rnd\n",
    "\n",
    "    x1_points = []\n",
    "    x2_points = []\n",
    "    x3_points = []\n",
    "    x4_points = []\n",
    "    x5_points = []\n",
    "    \n",
    "    for s in range(0, 120):\n",
    "        x1_points.append((rnd.random() - 0.5) * 5)\n",
    "        x2_points.append((rnd.random() - 0.5) * 5)\n",
    "        x3_points.append((rnd.random() - 0.5) * 5)\n",
    "        x4_points.append((rnd.random() - 0.5) * 5)\n",
    "        x5_points.append((rnd.random() - 0.5) * 5)\n",
    "\n",
    "    return x1_points, x2_points, x3_points, x4_points, x5_points\n",
    "\n",
    "def getX(teta, f, x1, x2, x3, x4, x5):\n",
    "    X = []\n",
    "    for i in range(len(teta)):\n",
    "        X.append([])\n",
    "        for j in range(len(x1)):\n",
    "            X[i].append(f(x1[j], x2[j], x3[j], x4[j], x5[j])[i])\n",
    "    X = np.matrix(X)\n",
    "    return X\n",
    "\n",
    "def getY(u, x1, x2, x3, x4, x5, p = 0.1):\n",
    "    u_arr = []\n",
    "    for i in range(len(x1)):\n",
    "        u_arr.append(u(x1, x2, x3, x4, x5))\n",
    "        \n",
    "    vect_arr_u = np.array(u_arr)\n",
    "    average_u = vect_arr_u.mean()\n",
    "\n",
    "    w2 = np.dot(vect_arr_u - average_u, vect_arr_u - average_u) / (len(vect_arr_u - 1))  \n",
    "    sig = p * (w2)**0.5\n",
    "    \n",
    "    # Сгенерировали U с помехами (y)\n",
    "    y = []\n",
    "    for i in range(len(x1)):\n",
    "        y.append(u_arr[i] + np.random.normal(0, sig))\n",
    "        \n",
    "    return y\n",
    "\n",
    "def multVect(x, scalar):\n",
    "    l = []\n",
    "    for i in range(len(x)):\n",
    "        l.append(x[i] * scalar)\n",
    "    l = np.array(l)\n",
    "    return l"
   ]
  },
  {
   "cell_type": "markdown",
   "metadata": {},
   "source": [
    "## 1. В соответствии с вариантом задания сгенерировать экспериментальные данные, в которых в явном виде присутствует эффект мультиколлинеарности.\n",
    "\n",
    "#### Регрессия на 7 факторах. Эффект мультиколлинеарности создают две пары факторов. Разброса в масштабах факторов нет;"
   ]
  },
  {
   "cell_type": "code",
   "execution_count": 2,
   "metadata": {},
   "outputs": [],
   "source": [
    "# Эффект мультиколлинеарности создают две пары факторов\n",
    "f = lambda x1, x2, x3, x4, x5: np.array([x1, x2, x3, x4, x5, x1 + 0.5 * x2, x1 * 0.5 + x2]) \n",
    "# Нет разброса в масштабах\n",
    "teta = np.array([1, 1, 1, 1, 1, 1, 1]) \n",
    "def u(x1, x2, x3, x4, x5): \n",
    "    x1 = np.array(x1)\n",
    "    x2 = np.array(x2)\n",
    "    x3 = np.array(x3)\n",
    "    x1 = np.array(x4)\n",
    "    x1 = np.array(x5)\n",
    "    x1_ = multVect(x1, 0.5)\n",
    "    x2_ = multVect(x2, 0.5)\n",
    "    return x1 + x2 + x3 + x4 + x5 + x1 + x2_ + x1_ + x2\n",
    "\n",
    "x1, x2, x3, x4, x5 = generateData()"
   ]
  },
  {
   "cell_type": "markdown",
   "metadata": {},
   "source": [
    "## 2. Рассчитать ряд показателей, характеризующих эффект мультиколлинеарности. Определить факторы, ответственные за возникновение эффекта мультиколлинеарности.\n",
    "\n",
    "#### 1) Определитель информационной матрицы."
   ]
  },
  {
   "cell_type": "code",
   "execution_count": 3,
   "metadata": {},
   "outputs": [
    {
     "name": "stdout",
     "output_type": "stream",
     "text": [
      "Определитель матрицы = -0.0\n"
     ]
    }
   ],
   "source": [
    "X = getX(teta, f, x1, x2, x3, x4, x5)\n",
    "valDet = np.linalg.det((X.T).dot(X))\n",
    "print('Определитель матрицы =', valDet)"
   ]
  },
  {
   "cell_type": "markdown",
   "metadata": {},
   "source": [
    "#### 2) Минимальное собственное число матрицы XtX."
   ]
  },
  {
   "cell_type": "code",
   "execution_count": 4,
   "metadata": {},
   "outputs": [
    {
     "name": "stdout",
     "output_type": "stream",
     "text": [
      "Минимальное собственное число = (-6.48959737708795e-14+0j)\n"
     ]
    }
   ],
   "source": [
    "eigvalues, eigvectors = np.linalg.eig((X.T).dot(X))\n",
    "minEig = min(eigvalues)\n",
    "print('Минимальное собственное число =', minEig)"
   ]
  },
  {
   "cell_type": "markdown",
   "metadata": {},
   "source": [
    "#### 3) Мера обусловленности матрицы по Нейману-Голдстейну."
   ]
  },
  {
   "cell_type": "code",
   "execution_count": 5,
   "metadata": {},
   "outputs": [
    {
     "name": "stdout",
     "output_type": "stream",
     "text": [
      "Мера обусловленности = (-1.3358807979879088e+16-0j)\n"
     ]
    }
   ],
   "source": [
    "maxEig = max(eigvalues)\n",
    "print('Мера обусловленности =', maxEig/minEig)"
   ]
  },
  {
   "cell_type": "markdown",
   "metadata": {},
   "source": [
    "#### 4) Максимальная парная сопряженность."
   ]
  },
  {
   "cell_type": "code",
   "execution_count": 6,
   "metadata": {},
   "outputs": [
    {
     "name": "stdout",
     "output_type": "stream",
     "text": [
      "0.9019644786262714 1 6\n"
     ]
    }
   ],
   "source": [
    "def sumF(x1, x2):\n",
    "    l = []\n",
    "    for i in range(len(x1)):\n",
    "        l.append(x1[i] + x2[i])\n",
    "    l = np.array(l)\n",
    "    return l\n",
    "\n",
    "\n",
    "       \n",
    "x6 = sumF(x1, multVect(x2, 0.5))\n",
    "x7 = sumF(multVect(x1, 0.5), x2)\n",
    "matrix = np.array([x1, x2, x3, x4, x5, x6, x7])\n",
    "\n",
    "R = []\n",
    "for i in range(len(matrix)):\n",
    "    R.append([])\n",
    "    for j in range(len(matrix)):\n",
    "        z = np.array(matrix[i]).T.dot(matrix[j])\n",
    "        z /= np.linalg.norm(matrix[i]) * np.linalg.norm(matrix[j])\n",
    "        R[i].append(z)\n",
    "     \n",
    "    \n",
    "maxValue = -12123132 \n",
    "index_i = 0 \n",
    "index_j = 0\n",
    "for i in range(len(R)):\n",
    "    for j in range(len(R)):\n",
    "        if i != j:\n",
    "            if maxValue < R[i][j]:\n",
    "                maxValue = R[i][j]\n",
    "                index_i = i\n",
    "                index_j = j\n",
    "                \n",
    "print(maxValue, index_i, index_j)"
   ]
  },
  {
   "cell_type": "markdown",
   "metadata": {},
   "source": [
    "#### 5) Максимальная сопряженность."
   ]
  },
  {
   "cell_type": "code",
   "execution_count": 7,
   "metadata": {},
   "outputs": [
    {
     "name": "stdout",
     "output_type": "stream",
     "text": [
      "1.0\n"
     ]
    }
   ],
   "source": [
    "# Фиксируем независимую x3\n",
    "P_sopr = np.matrix(R).conjugate() # Сопряженная\n",
    "p_1 = np.linalg.inv(P_sopr) # Обратная\n",
    "diag = np.diagonal(p_1)\n",
    "Ri_2 = 1 - 1/diag\n",
    "Ri_abs = abs(Ri_2**(1/2))\n",
    "print(max(Ri_abs))"
   ]
  },
  {
   "cell_type": "markdown",
   "metadata": {},
   "source": [
    "## 3. Построить ридж-оценки параметров при различных значениях параметра регуляризации. Выбрать оптимальное значение параметра регуляризации. Построить графики изменения квадрата евклидовой нормы оценок параметров и остаточной суммы квадратов от параметра регуляризации."
   ]
  },
  {
   "cell_type": "markdown",
   "metadata": {},
   "source": [
    "Для нахождения оптимального параметра регуляризации необходимо построить графики изменения квадрата евклидовой нормы оценок параметров и остаточной суммы квадратов от параметра регуляризации. Параметр 𝝀 будет определятся как некоторый компромисс между неизбежным увеличением остаточной  суммы квадратов и желаемым уменьшением евклидовой нормы оценок параметров."
   ]
  },
  {
   "cell_type": "code",
   "execution_count": 8,
   "metadata": {},
   "outputs": [
    {
     "name": "stderr",
     "output_type": "stream",
     "text": [
      "<ipython-input-1-35e536310435>:42: RuntimeWarning: invalid value encountered in sqrt\n",
      "  sig = p * (w2)**0.5\n"
     ]
    },
    {
     "ename": "ValueError",
     "evalue": "shape too large to be a matrix.",
     "output_type": "error",
     "traceback": [
      "\u001b[1;31m---------------------------------------------------------------------------\u001b[0m",
      "\u001b[1;31mValueError\u001b[0m                                Traceback (most recent call last)",
      "\u001b[1;32m<ipython-input-8-849dcdb2ea5f>\u001b[0m in \u001b[0;36m<module>\u001b[1;34m\u001b[0m\n\u001b[0;32m      2\u001b[0m \u001b[1;31m# LambdMAtr = np.diag(np.diagonal((X.dot(X.T)).dot(lamb)))\u001b[0m\u001b[1;33m\u001b[0m\u001b[1;33m\u001b[0m\u001b[1;33m\u001b[0m\u001b[0m\n\u001b[0;32m      3\u001b[0m \u001b[0mTeta_\u001b[0m \u001b[1;33m=\u001b[0m \u001b[1;32mlambda\u001b[0m \u001b[0mlamb\u001b[0m\u001b[1;33m:\u001b[0m \u001b[1;33m(\u001b[0m\u001b[0mnp\u001b[0m\u001b[1;33m.\u001b[0m\u001b[0mlinalg\u001b[0m\u001b[1;33m.\u001b[0m\u001b[0minv\u001b[0m\u001b[1;33m(\u001b[0m\u001b[1;33m(\u001b[0m\u001b[0mX\u001b[0m\u001b[1;33m)\u001b[0m\u001b[1;33m.\u001b[0m\u001b[0mdot\u001b[0m\u001b[1;33m(\u001b[0m\u001b[0mX\u001b[0m\u001b[1;33m.\u001b[0m\u001b[0mT\u001b[0m\u001b[1;33m)\u001b[0m \u001b[1;33m+\u001b[0m \u001b[0mnp\u001b[0m\u001b[1;33m.\u001b[0m\u001b[0mdiag\u001b[0m\u001b[1;33m(\u001b[0m\u001b[0mnp\u001b[0m\u001b[1;33m.\u001b[0m\u001b[0mdiagonal\u001b[0m\u001b[1;33m(\u001b[0m\u001b[1;33m(\u001b[0m\u001b[0mX\u001b[0m\u001b[1;33m.\u001b[0m\u001b[0mdot\u001b[0m\u001b[1;33m(\u001b[0m\u001b[0mX\u001b[0m\u001b[1;33m.\u001b[0m\u001b[0mT\u001b[0m\u001b[1;33m)\u001b[0m\u001b[1;33m)\u001b[0m\u001b[1;33m.\u001b[0m\u001b[0mdot\u001b[0m\u001b[1;33m(\u001b[0m\u001b[0mlamb\u001b[0m\u001b[1;33m)\u001b[0m\u001b[1;33m)\u001b[0m\u001b[1;33m)\u001b[0m\u001b[1;33m)\u001b[0m\u001b[1;33m.\u001b[0m\u001b[0mdot\u001b[0m\u001b[1;33m(\u001b[0m\u001b[0mX\u001b[0m\u001b[1;33m)\u001b[0m\u001b[1;33m)\u001b[0m\u001b[1;33m.\u001b[0m\u001b[0mdot\u001b[0m\u001b[1;33m(\u001b[0m\u001b[0my\u001b[0m\u001b[1;33m)\u001b[0m\u001b[1;33m\u001b[0m\u001b[1;33m\u001b[0m\u001b[0m\n\u001b[1;32m----> 4\u001b[1;33m \u001b[0mprint\u001b[0m\u001b[1;33m(\u001b[0m\u001b[0mTeta_\u001b[0m\u001b[1;33m(\u001b[0m\u001b[1;36m1\u001b[0m\u001b[1;33m)\u001b[0m\u001b[1;33m)\u001b[0m\u001b[1;33m\u001b[0m\u001b[1;33m\u001b[0m\u001b[0m\n\u001b[0m",
      "\u001b[1;32m<ipython-input-8-849dcdb2ea5f>\u001b[0m in \u001b[0;36m<lambda>\u001b[1;34m(lamb)\u001b[0m\n\u001b[0;32m      1\u001b[0m \u001b[0my\u001b[0m \u001b[1;33m=\u001b[0m \u001b[0mgetY\u001b[0m\u001b[1;33m(\u001b[0m\u001b[0mu\u001b[0m\u001b[1;33m,\u001b[0m \u001b[0mx1\u001b[0m\u001b[1;33m,\u001b[0m \u001b[0mx2\u001b[0m\u001b[1;33m,\u001b[0m \u001b[0mx3\u001b[0m\u001b[1;33m,\u001b[0m \u001b[0mx4\u001b[0m\u001b[1;33m,\u001b[0m \u001b[0mx5\u001b[0m\u001b[1;33m)\u001b[0m\u001b[1;33m\u001b[0m\u001b[1;33m\u001b[0m\u001b[0m\n\u001b[0;32m      2\u001b[0m \u001b[1;31m# LambdMAtr = np.diag(np.diagonal((X.dot(X.T)).dot(lamb)))\u001b[0m\u001b[1;33m\u001b[0m\u001b[1;33m\u001b[0m\u001b[1;33m\u001b[0m\u001b[0m\n\u001b[1;32m----> 3\u001b[1;33m \u001b[0mTeta_\u001b[0m \u001b[1;33m=\u001b[0m \u001b[1;32mlambda\u001b[0m \u001b[0mlamb\u001b[0m\u001b[1;33m:\u001b[0m \u001b[1;33m(\u001b[0m\u001b[0mnp\u001b[0m\u001b[1;33m.\u001b[0m\u001b[0mlinalg\u001b[0m\u001b[1;33m.\u001b[0m\u001b[0minv\u001b[0m\u001b[1;33m(\u001b[0m\u001b[1;33m(\u001b[0m\u001b[0mX\u001b[0m\u001b[1;33m)\u001b[0m\u001b[1;33m.\u001b[0m\u001b[0mdot\u001b[0m\u001b[1;33m(\u001b[0m\u001b[0mX\u001b[0m\u001b[1;33m.\u001b[0m\u001b[0mT\u001b[0m\u001b[1;33m)\u001b[0m \u001b[1;33m+\u001b[0m \u001b[0mnp\u001b[0m\u001b[1;33m.\u001b[0m\u001b[0mdiag\u001b[0m\u001b[1;33m(\u001b[0m\u001b[0mnp\u001b[0m\u001b[1;33m.\u001b[0m\u001b[0mdiagonal\u001b[0m\u001b[1;33m(\u001b[0m\u001b[1;33m(\u001b[0m\u001b[0mX\u001b[0m\u001b[1;33m.\u001b[0m\u001b[0mdot\u001b[0m\u001b[1;33m(\u001b[0m\u001b[0mX\u001b[0m\u001b[1;33m.\u001b[0m\u001b[0mT\u001b[0m\u001b[1;33m)\u001b[0m\u001b[1;33m)\u001b[0m\u001b[1;33m.\u001b[0m\u001b[0mdot\u001b[0m\u001b[1;33m(\u001b[0m\u001b[0mlamb\u001b[0m\u001b[1;33m)\u001b[0m\u001b[1;33m)\u001b[0m\u001b[1;33m)\u001b[0m\u001b[1;33m)\u001b[0m\u001b[1;33m.\u001b[0m\u001b[0mdot\u001b[0m\u001b[1;33m(\u001b[0m\u001b[0mX\u001b[0m\u001b[1;33m)\u001b[0m\u001b[1;33m)\u001b[0m\u001b[1;33m.\u001b[0m\u001b[0mdot\u001b[0m\u001b[1;33m(\u001b[0m\u001b[0my\u001b[0m\u001b[1;33m)\u001b[0m\u001b[1;33m\u001b[0m\u001b[1;33m\u001b[0m\u001b[0m\n\u001b[0m\u001b[0;32m      4\u001b[0m \u001b[0mprint\u001b[0m\u001b[1;33m(\u001b[0m\u001b[0mTeta_\u001b[0m\u001b[1;33m(\u001b[0m\u001b[1;36m1\u001b[0m\u001b[1;33m)\u001b[0m\u001b[1;33m)\u001b[0m\u001b[1;33m\u001b[0m\u001b[1;33m\u001b[0m\u001b[0m\n",
      "\u001b[1;32mD:\\Anaconda\\lib\\site-packages\\numpy\\matrixlib\\defmatrix.py\u001b[0m in \u001b[0;36m__array_finalize__\u001b[1;34m(self, obj)\u001b[0m\n\u001b[0;32m    180\u001b[0m                 \u001b[1;32mreturn\u001b[0m\u001b[1;33m\u001b[0m\u001b[1;33m\u001b[0m\u001b[0m\n\u001b[0;32m    181\u001b[0m             \u001b[1;32melif\u001b[0m \u001b[1;33m(\u001b[0m\u001b[0mndim\u001b[0m \u001b[1;33m>\u001b[0m \u001b[1;36m2\u001b[0m\u001b[1;33m)\u001b[0m\u001b[1;33m:\u001b[0m\u001b[1;33m\u001b[0m\u001b[1;33m\u001b[0m\u001b[0m\n\u001b[1;32m--> 182\u001b[1;33m                 \u001b[1;32mraise\u001b[0m \u001b[0mValueError\u001b[0m\u001b[1;33m(\u001b[0m\u001b[1;34m\"shape too large to be a matrix.\"\u001b[0m\u001b[1;33m)\u001b[0m\u001b[1;33m\u001b[0m\u001b[1;33m\u001b[0m\u001b[0m\n\u001b[0m\u001b[0;32m    183\u001b[0m         \u001b[1;32melse\u001b[0m\u001b[1;33m:\u001b[0m\u001b[1;33m\u001b[0m\u001b[1;33m\u001b[0m\u001b[0m\n\u001b[0;32m    184\u001b[0m             \u001b[0mnewshape\u001b[0m \u001b[1;33m=\u001b[0m \u001b[0mself\u001b[0m\u001b[1;33m.\u001b[0m\u001b[0mshape\u001b[0m\u001b[1;33m\u001b[0m\u001b[1;33m\u001b[0m\u001b[0m\n",
      "\u001b[1;31mValueError\u001b[0m: shape too large to be a matrix."
     ]
    }
   ],
   "source": [
    "y = getY(u, x1, x2, x3, x4, x5)\n",
    "# LambdMAtr = np.diag(np.diagonal((X.dot(X.T)).dot(lamb)))\n",
    "Teta_ = lambda lamb: (np.linalg.inv((X).dot(X.T) + np.diag(np.diagonal((X.dot(X.T)).dot(lamb)))).dot(X)).dot(y)\n",
    "print(Teta_(1))"
   ]
  },
  {
   "cell_type": "code",
   "execution_count": null,
   "metadata": {},
   "outputs": [],
   "source": []
  }
 ],
 "metadata": {
  "kernelspec": {
   "display_name": "Python 3",
   "language": "python",
   "name": "python3"
  },
  "language_info": {
   "codemirror_mode": {
    "name": "ipython",
    "version": 3
   },
   "file_extension": ".py",
   "mimetype": "text/x-python",
   "name": "python",
   "nbconvert_exporter": "python",
   "pygments_lexer": "ipython3",
   "version": "3.8.3"
  }
 },
 "nbformat": 4,
 "nbformat_minor": 4
}
