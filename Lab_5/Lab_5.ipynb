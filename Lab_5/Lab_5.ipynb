{
 "cells": [
  {
   "cell_type": "markdown",
   "metadata": {},
   "source": [
    "# Lab_5\n",
    "#### 1. В соответствии с вариантом задания сгенерировать экспериментальные данные, в которых в явном виде присутствует эффект мультиколлинеарности.\n",
    "#### 2. Рассчитать ряд показателей, характеризующих эффект мультиколлинеарности. Определить факторы, ответственные за возникновение эффекта мультиколлинеарности.\n",
    "#### 3. Построить ридж-оценки параметров при различных значениях параметра регуляризации. Выбрать оптимальное значение параметра регуляризации. Построить графики изменения квадрата евклидовой нормы оценок параметров и остаточной суммы квадратов от параметра регуляризации.\n",
    "#### 4. Провести оценивание модели регрессии по методу главных компонентов. Перейти к описанию в исходном пространстве факторов. Сравнить решение с ридж-оцениванием по смещению оценок и точности предсказания отклика. "
   ]
  },
  {
   "cell_type": "markdown",
   "metadata": {},
   "source": [
    "## Инициализация программы"
   ]
  },
  {
   "cell_type": "code",
   "execution_count": 1,
   "metadata": {},
   "outputs": [],
   "source": [
    "import numpy as np\n",
    "\n",
    "\n",
    "# Генерирует точки (120) в [-2.5; 2.5]\n",
    "def generateData():\n",
    "    import random as rnd\n",
    "\n",
    "    x1_points = []\n",
    "    x2_points = []\n",
    "    x3_points = []\n",
    "    x4_points = []\n",
    "    x5_points = []\n",
    "    \n",
    "    for s in range(0, 120):\n",
    "        x1_points.append((rnd.random() - 0.5) * 5)\n",
    "        x2_points.append((rnd.random() - 0.5) * 5)\n",
    "        x3_points.append((rnd.random() - 0.5) * 5)\n",
    "        x4_points.append((rnd.random() - 0.5) * 5)\n",
    "        x5_points.append((rnd.random() - 0.5) * 5)\n",
    "\n",
    "    return x1_points, x2_points, x3_points, x4_points, x5_points\n",
    "\n",
    "def getX(teta, f, x1, x2, x3, x4, x5):\n",
    "    X = []\n",
    "    for i in range(len(teta)):\n",
    "        X.append([])\n",
    "        for j in range(len(x1)):\n",
    "            X[i].append(f(x1[j], x2[j], x3[j], x4[j], x5[j])[i])\n",
    "    X = np.matrix(X)\n",
    "    return X"
   ]
  },
  {
   "cell_type": "markdown",
   "metadata": {},
   "source": [
    "## 1. В соответствии с вариантом задания сгенерировать экспериментальные данные, в которых в явном виде присутствует эффект мультиколлинеарности.\n",
    "\n",
    "#### Регрессия на 7 факторах. Эффект мультиколлинеарности создают две пары факторов. Разброса в масштабах факторов нет;"
   ]
  },
  {
   "cell_type": "code",
   "execution_count": 2,
   "metadata": {},
   "outputs": [],
   "source": [
    "# Эффект мультиколлинеарности создают две пары факторов\n",
    "f = lambda x1, x2, x3, x4, x5: np.array([x1, x2, x3, x4, x5, x1 + 0.5 * x2, x1 * 0.5 + x2]) \n",
    "# Нет разброса в масштабах\n",
    "teta = np.array([1, 1, 1, 1, 1, 1, 1]) \n",
    "u = lambda x: f(x).dot(teta.T)\n",
    "\n",
    "x1, x2, x3, x4, x5 = generateData()"
   ]
  },
  {
   "cell_type": "markdown",
   "metadata": {},
   "source": [
    "## 2. Рассчитать ряд показателей, характеризующих эффект мультиколлинеарности. Определить факторы, ответственные за возникновение эффекта мультиколлинеарности.\n",
    "\n",
    "#### 1) Определитель информационной матрицы."
   ]
  },
  {
   "cell_type": "code",
   "execution_count": 3,
   "metadata": {},
   "outputs": [
    {
     "name": "stdout",
     "output_type": "stream",
     "text": [
      "Определитель матрицы = 0.0\n"
     ]
    }
   ],
   "source": [
    "X = getX(teta, f, x1, x2, x3, x4, x5)\n",
    "valDet = np.linalg.det((X.T).dot(X))\n",
    "print('Определитель матрицы =', valDet)"
   ]
  },
  {
   "cell_type": "markdown",
   "metadata": {},
   "source": [
    "#### 2) Минимальное собственное число матрицы XtX."
   ]
  },
  {
   "cell_type": "code",
   "execution_count": 4,
   "metadata": {},
   "outputs": [
    {
     "name": "stdout",
     "output_type": "stream",
     "text": [
      "Минимальное собственное число = (-6.888746184394736e-14+0j)\n"
     ]
    }
   ],
   "source": [
    "eigvalues, eigvectors = np.linalg.eig((X.T).dot(X))\n",
    "minEig = min(eigvalues)\n",
    "print('Минимальное собственное число =', minEig)"
   ]
  },
  {
   "cell_type": "markdown",
   "metadata": {},
   "source": [
    "#### 3) Мера обусловленности матрицы по Нейману-Голдстейну."
   ]
  },
  {
   "cell_type": "code",
   "execution_count": 5,
   "metadata": {},
   "outputs": [
    {
     "name": "stdout",
     "output_type": "stream",
     "text": [
      "Мера обусловленности = (-1.112635682252861e+16-0j)\n"
     ]
    }
   ],
   "source": [
    "maxEig = max(eigvalues)\n",
    "print('Мера обусловленности =', maxEig/minEig)"
   ]
  },
  {
   "cell_type": "markdown",
   "metadata": {},
   "source": [
    "#### 4) Максимальная парная сопряженность."
   ]
  },
  {
   "cell_type": "code",
   "execution_count": 6,
   "metadata": {},
   "outputs": [
    {
     "name": "stdout",
     "output_type": "stream",
     "text": [
      "0.9033927656457224 0 5\n"
     ]
    }
   ],
   "source": [
    "def sumF(x1, x2):\n",
    "    l = []\n",
    "    for i in range(len(x1)):\n",
    "        l.append(x1[i] + x2[i])\n",
    "    l = np.array(l)\n",
    "    return l\n",
    "\n",
    "def multVect(x, scalar):\n",
    "    l = []\n",
    "    for i in range(len(x)):\n",
    "        l.append(x[i] * scalar)\n",
    "    l = np.array(l)\n",
    "    return l\n",
    "       \n",
    "x6 = sumF(x1, multVect(x2, 0.5))\n",
    "x7 = sumF(multVect(x1, 0.5), x2)\n",
    "matrix = np.array([x1, x2, x3, x4, x5, x6, x7])\n",
    "\n",
    "R = []\n",
    "for i in range(len(matrix)):\n",
    "    R.append([])\n",
    "    for j in range(len(matrix)):\n",
    "        z = np.array(matrix[i]).T.dot(matrix[j])\n",
    "        z /= np.linalg.norm(matrix[i]) * np.linalg.norm(matrix[j])\n",
    "        R[i].append(z)\n",
    "     \n",
    "    \n",
    "maxValue = -12123132 \n",
    "index_i = 0 \n",
    "index_j = 0\n",
    "for i in range(len(R)):\n",
    "    for j in range(len(R)):\n",
    "        if i != j:\n",
    "            if maxValue < R[i][j]:\n",
    "                maxValue = R[i][j]\n",
    "                index_i = i\n",
    "                index_j = j\n",
    "                \n",
    "print(maxValue, index_i, index_j)"
   ]
  },
  {
   "cell_type": "markdown",
   "metadata": {},
   "source": [
    "#### 5) Максимальная сопряженность."
   ]
  },
  {
   "cell_type": "code",
   "execution_count": 23,
   "metadata": {},
   "outputs": [
    {
     "name": "stdout",
     "output_type": "stream",
     "text": [
      "1.0\n"
     ]
    }
   ],
   "source": [
    "# Фиксируем независимую x3\n",
    "P_sopr = np.matrix(R).conjugate() # Сопряженная\n",
    "p_1 = np.linalg.inv(P_sopr) # Обратная\n",
    "diag = np.diagonal(p_1)\n",
    "Ri_2 = 1 - 1/diag\n",
    "Ri_abs = abs(Ri_2**(1/2))\n",
    "print(max(Ri_abs))"
   ]
  },
  {
   "cell_type": "markdown",
   "metadata": {},
   "source": [
    "## 3. Построить ридж-оценки параметров при различных значениях параметра регуляризации. Выбрать оптимальное значение параметра регуляризации. Построить графики изменения квадрата евклидовой нормы оценок параметров и остаточной суммы квадратов от параметра регуляризации."
   ]
  },
  {
   "cell_type": "code",
   "execution_count": null,
   "metadata": {},
   "outputs": [],
   "source": []
  }
 ],
 "metadata": {
  "kernelspec": {
   "display_name": "Python 3",
   "language": "python",
   "name": "python3"
  },
  "language_info": {
   "codemirror_mode": {
    "name": "ipython",
    "version": 3
   },
   "file_extension": ".py",
   "mimetype": "text/x-python",
   "name": "python",
   "nbconvert_exporter": "python",
   "pygments_lexer": "ipython3",
   "version": "3.8.3"
  }
 },
 "nbformat": 4,
 "nbformat_minor": 4
}
