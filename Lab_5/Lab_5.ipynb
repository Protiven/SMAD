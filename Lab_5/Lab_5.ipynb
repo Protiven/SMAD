{
 "cells": [
  {
   "cell_type": "markdown",
   "metadata": {},
   "source": [
    "# Lab_5\n",
    "## Вариант задания: Регрессия на 7 факторах. Эффект мультиколлинеарности создают две пары факторов. Разброса в масштабах факторов нет\n",
    "\n",
    "#### 1. В соответствии с вариантом задания сгенерировать экспериментальные данные, в которых в явном виде присутствует эффект мультиколлинеарности.\n",
    "#### 2. Рассчитать ряд показателей, характеризующих эффект мультиколлинеарности. Определить факторы, ответственные за возникновение эффекта мультиколлинеарности.\n",
    "#### 3. Построить ридж-оценки параметров при различных значениях параметра регуляризации. Выбрать оптимальное значение параметра регуляризации. Построить графики изменения квадрата евклидовой нормы оценок параметров и остаточной суммы квадратов от параметра регуляризации.\n",
    "#### 4. Провести оценивание модели регрессии по методу главных компонентов. Перейти к описанию в исходном пространстве факторов. Сравнить решение с ридж-оцениванием по смещению оценок и точности предсказания отклика. "
   ]
  },
  {
   "cell_type": "markdown",
   "metadata": {},
   "source": [
    "## 1. В соответствии с вариантом задания сгенерировать экспериментальные данные, в которых в явном виде присутствует эффект мультиколлинеарности.\n",
    "\n",
    "#### Регрессия на 7 факторах. Эффект мультиколлинеарности создают две пары факторов. Разброса в масштабах факторов нет;"
   ]
  },
  {
   "cell_type": "code",
   "execution_count": 1,
   "metadata": {},
   "outputs": [],
   "source": [
    "# teta_i = 1 для каждого регрессора\n",
    "import matplotlib.pyplot as plt\n",
    "import numpy as np\n",
    "import random as rnd\n",
    "\n",
    "countN = 1000\n",
    "\n",
    "def getEta(X):\n",
    "    u = np.empty(countN)\n",
    "    for i in range(countN):\n",
    "        u[i] = np.sum(X[i, :])\n",
    "    return u\n",
    "    \n",
    "# Генерация плана эксперимента\n",
    "def getX():\n",
    "    x1 = np.empty(countN)\n",
    "    x3 = np.empty(countN)\n",
    "    x5 = np.empty(countN)\n",
    "    x6 = np.empty(countN)\n",
    "    x7 = np.empty(countN)\n",
    "    for i in range(countN):\n",
    "        x1[i] = (rnd.random() - 0.5) * 4\n",
    "        x3[i] = (rnd.random() - 0.5) * 4\n",
    "        x5[i] = (rnd.random() - 0.5) * 4\n",
    "        x6[i] = (rnd.random() - 0.5) * 4\n",
    "        x7[i] = (rnd.random() - 0.5) * 4\n",
    "    \n",
    "    X = np.matrix([x1, x3 * 0.87 + 0.75 * x1 + 0.13, x3, 0.05 * x6 + x5 * 0.03 + 0.11, x5, x6, x7])\n",
    "\n",
    "    return np.matrix(X).T"
   ]
  },
  {
   "cell_type": "markdown",
   "metadata": {},
   "source": [
    "# 2. Рассчитать ряд показателей, характеризующих эффект мультиколлинеарности. Определить факторы, ответственные за возникновение эффекта мультиколлинеарности.\n",
    "\n",
    "#### 1) Определитель информационной матрицы."
   ]
  },
  {
   "cell_type": "code",
   "execution_count": 2,
   "metadata": {
    "scrolled": true
   },
   "outputs": [
    {
     "name": "stdout",
     "output_type": "stream",
     "text": [
      "Определитель матрицы = -8952.121811\n"
     ]
    }
   ],
   "source": [
    "X = getX()\n",
    "print('Определитель матрицы = %7f' % np.linalg.det(X.T*X))"
   ]
  },
  {
   "cell_type": "markdown",
   "metadata": {},
   "source": [
    "#### 2) Минимальное собственное число матрицы XtX."
   ]
  },
  {
   "cell_type": "code",
   "execution_count": 3,
   "metadata": {},
   "outputs": [
    {
     "name": "stdout",
     "output_type": "stream",
     "text": [
      "Минимальное собственное число = 9.747928339208574e-14\n"
     ]
    }
   ],
   "source": [
    "eigvalues, eigvectors = np.linalg.eig((X.T).dot(X))\n",
    "print('Минимальное собственное число =', min(abs(eigvalues)))"
   ]
  },
  {
   "cell_type": "markdown",
   "metadata": {},
   "source": [
    "#### 3) Мера обусловленности матрицы по Нейману-Голдстейну."
   ]
  },
  {
   "cell_type": "code",
   "execution_count": 4,
   "metadata": {},
   "outputs": [
    {
     "name": "stdout",
     "output_type": "stream",
     "text": [
      "Мера обусловленности по Нейману-Голдстейну = 3.1210203011392876e+16\n"
     ]
    }
   ],
   "source": [
    "maxEig = max(eigvalues)\n",
    "minEig = min(eigvalues)\n",
    "print('Мера обусловленности по Нейману-Голдстейну =', abs(maxEig/minEig))"
   ]
  },
  {
   "cell_type": "markdown",
   "metadata": {},
   "source": [
    "#### 4) Максимальная парная сопряженность."
   ]
  },
  {
   "cell_type": "code",
   "execution_count": 5,
   "metadata": {},
   "outputs": [
    {
     "name": "stdout",
     "output_type": "stream",
     "text": [
      "Максимальная парная сопряженность = 0.8596112974542423\n"
     ]
    }
   ],
   "source": [
    "R = np.empty((7, 7))\n",
    "for i in range(7):\n",
    "  for j in range(7):\n",
    "    if i == j: \n",
    "      R[i][j] = 1\n",
    "    else: \n",
    "      u, v = np.squeeze(np.asarray(X[i,:])), np.squeeze(np.asarray(X[j,:]))\n",
    "      R[i][j] = np.dot(u, v) / (np.sum(u**2)**(1/2) * np.sum(v**2)**(1/2))\n",
    "\n",
    "max_value = -1000\n",
    "for i in range(7):\n",
    "    for j in range(i):\n",
    "        if abs(R[i, j]) > max_value:\n",
    "            max_value = abs(R[i, j])\n",
    "\n",
    "R = np.matrix(R)\n",
    "print(\"Максимальная парная сопряженность =\", max_value)"
   ]
  },
  {
   "cell_type": "markdown",
   "metadata": {},
   "source": [
    "#### 5) Максимальная сопряженность."
   ]
  },
  {
   "cell_type": "code",
   "execution_count": 6,
   "metadata": {},
   "outputs": [
    {
     "name": "stdout",
     "output_type": "stream",
     "text": [
      "1.000000000000002\n"
     ]
    }
   ],
   "source": [
    "# Фиксируем независимую x1\n",
    "import math\n",
    "diag_Rsinv = np.diagonal(np.linalg.inv(R.conjugate()))\n",
    "Ri_2 = 1 - 1 / diag_Rsinv\n",
    "Ri_abs = abs(Ri_2**(1/2))\n",
    "print(max(Ri_abs))"
   ]
  },
  {
   "cell_type": "markdown",
   "metadata": {},
   "source": [
    "## 3. Построить ридж-оценки параметров при различных значениях параметра регуляризации. Выбрать оптимальное значение параметра регуляризации. Построить графики изменения квадрата евклидовой нормы оценок параметров и остаточной суммы квадратов от параметра регуляризации."
   ]
  },
  {
   "cell_type": "markdown",
   "metadata": {},
   "source": [
    "##### Для нахождения оптимального параметра регуляризации необходимо построить графики изменения квадрата евклидовой нормы оценок параметров и остаточной суммы квадратов от параметра регуляризации. Параметр 𝝀 будет определятся как некоторый компромисс между неизбежным увеличением остаточной  суммы квадратов и желаемым уменьшением евклидовой нормы оценок параметров."
   ]
  },
  {
   "cell_type": "code",
   "execution_count": 7,
   "metadata": {},
   "outputs": [],
   "source": [
    "def getRidjTheta(X, y, lam):\n",
    "    L = np.diag(lam * np.diag(X.T*X))\n",
    "    return np.array(np.dot(np.linalg.inv(X.T*X + L) * X.T, y))\n",
    "\n",
    "def calcRss(X, y, th):\n",
    "    sup = np.empty(len(y))\n",
    "    for i in range(len(y)):\n",
    "        sup[i] = y[i] - (X[i, :] * th.T) \n",
    "    return np.sum(sup ** 2)\n",
    "\n",
    "def getUarray(X):\n",
    "    u = []\n",
    "    for i in range(len(X)):\n",
    "        u.append(np.sum(X[i, :]))\n",
    "    u = np.array(u)\n",
    "    return u\n",
    "    \n",
    "def getYarray(u, p = 0.05):\n",
    "    y = np.empty(len(u))\n",
    "    \n",
    "    w2 = np.dot(u - u.mean(), u - u.mean()) / (len(u - 1))  \n",
    "    sig = p * (w2)**0.5\n",
    "    for i in range(len(u)):\n",
    "        y[i] = u[i] + np.random.normal(0, sig)\n",
    "    return y"
   ]
  },
  {
   "cell_type": "code",
   "execution_count": 15,
   "metadata": {},
   "outputs": [
    {
     "data": {
      "image/png": "[encoded data removed]",
      "text/plain": [
       "<Figure size 432x288 with 1 Axes>"
      ]
     },
     "metadata": {
      "needs_background": "light"
     },
     "output_type": "display_data"
    }
   ],
   "source": [
    "# RSS\n",
    "Range = 100\n",
    "lamb = np.linspace(0.0000001, 0.1, Range)\n",
    "y = getYarray(getUarray(X))\n",
    "ridjTheta = np.array([getRidjTheta(X, y, l_) for l_ in lamb])\n",
    "RSS_ = [calcRss(X, y, ridjTheta[l_]) for l_ in range(Range)]\n",
    "Beta_ = [(np.sum(ridjTheta[l_]**2))**(1/2) for l_ in range(Range)]\n",
    "fig, ax = plt.subplots()\n",
    "plt.grid()\n",
    "plt.plot(lamb, RSS_)\n",
    "ax.set_xlabel('Lambda')\n",
    "ax.set_ylabel('RSS')\n",
    "plt.show()"
   ]
  },
  {
   "cell_type": "code",
   "execution_count": 14,
   "metadata": {},
   "outputs": [
    {
     "data": {
      "image/png": "[encoded data removed]",
      "text/plain": [
       "<Figure size 432x288 with 1 Axes>"
      ]
     },
     "metadata": {
      "needs_background": "light"
     },
     "output_type": "display_data"
    }
   ],
   "source": [
    "# Beta\n",
    "fig, ax = plt.subplots()\n",
    "plt.plot(lamb, Beta_ )\n",
    "ax.set_xlabel('Lambda')\n",
    "ax.set_ylabel('Beta')\n",
    "plt.grid()\n",
    "plt.show()"
   ]
  },
  {
   "cell_type": "code",
   "execution_count": 10,
   "metadata": {},
   "outputs": [
    {
     "name": "stdout",
     "output_type": "stream",
     "text": [
      "[[0.93667066 1.09227266 0.91119144 0.91755973 0.99807777 0.9989272\n",
      "  0.99526044]]\n",
      "Различие Ридж оценки с идеальной theta по норме =  0.16503186675881235\n"
     ]
    }
   ],
   "source": [
    "# Оптимальное занчение по малому увеличению RSS\n",
    "lambda_ = 0.00000002\n",
    "\n",
    "# Различие с идеальной theta\n",
    "theta_Ridj = getRidjTheta(X, y, lambda_)\n",
    "print(theta_Ridj)\n",
    "print(\"Различие Ридж оценки с идеальной theta по норме = \" , np.linalg.norm(theta_Ridj - np.array([1, 1, 1, 1, 1, 1, 1])))"
   ]
  },
  {
   "cell_type": "markdown",
   "metadata": {},
   "source": [
    "## 4. Провести оценивание модели регрессии по методу главных компонентов. Перейти к описанию в исходном пространстве факторов. Сравнить решение с ридж-оцениванием по смещению оценок и точности предсказания отклика"
   ]
  },
  {
   "cell_type": "code",
   "execution_count": 11,
   "metadata": {},
   "outputs": [
    {
     "name": "stdout",
     "output_type": "stream",
     "text": [
      "[0.80636749 1.26601023 0.76003978 0.08272713 1.02312277 1.04066885\n",
      " 0.99526046]\n",
      "Различие оценки по методу главных компонент с идеальной theta по норме =  1.0047071731405646\n"
     ]
    }
   ],
   "source": [
    "eps = 0.00000001\n",
    "\n",
    "y_c = y - np.average(y)\n",
    "X_c = X.copy()\n",
    "for i in range(7):\n",
    "  X_c[:,i] -= np.average(X_c[:,i])\n",
    "\n",
    "# Найдем собственные значения и собственные векторы\n",
    "eig_values, eig_vectors = np.linalg.eig(X_c.T*X_c)\n",
    "eig_important = eig_values / np.sum(eig_values)\n",
    "\n",
    "# Строим массив для удаления неважных компонент\n",
    "delete_array = []\n",
    "for i in range(len(eig_important)):\n",
    "  if abs(eig_important[i]) < eps:\n",
    "    delete_array.append(i) \n",
    "\n",
    "# Удаляем неважные компоненты\n",
    "eig_vectors_new = np.delete(eig_vectors, delete_array, 1)\n",
    "Z = X_c * eig_vectors_new\n",
    "\n",
    "b = np.dot(np.linalg.inv(Z.T*Z)*Z.T, y_c)\n",
    "theta_pca = np.squeeze(np.asarray(np.dot(eig_vectors_new, b.T)))\n",
    "print(theta_pca)\n",
    "print(\"Различие оценки по методу главных компонент с идеальной theta по норме = \", np.linalg.norm(theta_pca - np.array([1, 1, 1, 1, 1, 1, 1])))"
   ]
  },
  {
   "cell_type": "code",
   "execution_count": 12,
   "metadata": {},
   "outputs": [
    {
     "name": "stdout",
     "output_type": "stream",
     "text": [
      "Различия между оценками по норме  =  0.8771120669612441\n"
     ]
    }
   ],
   "source": [
    "print(\"Различия между оценками по норме  = \", np.linalg.norm(theta_pca - theta_Ridj))"
   ]
  },
  {
   "cell_type": "code",
   "execution_count": null,
   "metadata": {},
   "outputs": [],
   "source": []
  }
 ],
 "metadata": {
  "kernelspec": {
   "display_name": "Python 3",
   "language": "python",
   "name": "python3"
  },
  "language_info": {
   "codemirror_mode": {
    "name": "ipython",
    "version": 3
   },
   "file_extension": ".py",
   "mimetype": "text/x-python",
   "name": "python",
   "nbconvert_exporter": "python",
   "pygments_lexer": "ipython3",
   "version": "3.8.3"
  }
 },
 "nbformat": 4,
 "nbformat_minor": 4
}
